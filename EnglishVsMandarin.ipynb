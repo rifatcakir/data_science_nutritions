{
  "nbformat": 4,
  "nbformat_minor": 0,
  "metadata": {
    "colab": {
      "name": "dats511_final",
      "provenance": [],
      "collapsed_sections": [
        "o0bChBH-eB6E",
        "tiUKqvkhUPvT",
        "R9upN3-5UXVz",
        "lkdeWvecGo2q",
        "dh7-d6QWNiO8"
      ],
      "authorship_tag": "ABX9TyPS/H5J/y/odgGxwnGqc/ep",
      "include_colab_link": true
    },
    "kernelspec": {
      "name": "python3",
      "display_name": "Python 3"
    }
  },
  "cells": [
    {
      "cell_type": "markdown",
      "metadata": {
        "id": "view-in-github",
        "colab_type": "text"
      },
      "source": [
        "<a href=\"https://colab.research.google.com/github/rifatcakir/data_science_nutritions/blob/main/EnglishVsMandarin.ipynb\" target=\"_parent\"><img src=\"https://colab.research.google.com/assets/colab-badge.svg\" alt=\"Open In Colab\"/></a>"
      ]
    },
    {
      "cell_type": "markdown",
      "metadata": {
        "id": "mFMIwxGaISUb"
      },
      "source": [
        "# **SETUP**"
      ]
    },
    {
      "cell_type": "markdown",
      "metadata": {
        "id": "qkCZkadLImvg"
      },
      "source": [
        "## Installations"
      ]
    },
    {
      "cell_type": "code",
      "metadata": {
        "id": "1CTzaZVyIWyO"
      },
      "source": [
        "!pip install arviz\r\n",
        "!pip install pymc3==3.8\r\n",
        "\r\n",
        "import numpy as np\r\n",
        "import pandas as pd\r\n",
        "import matplotlib.pyplot as plt\r\n",
        "import pymc3 as pm\r\n",
        "import arviz as az\r\n",
        "\r\n",
        "from sklearn.preprocessing import scale\r\n",
        "\r\n",
        "import warnings\r\n",
        "warnings.filterwarnings('ignore')"
      ],
      "execution_count": 1,
      "outputs": []
    },
    {
      "cell_type": "markdown",
      "metadata": {
        "id": "rHXAcwxgIjFg"
      },
      "source": [
        "## Data Loads"
      ]
    },
    {
      "cell_type": "markdown",
      "metadata": {
        "id": "A7g82DGCN84c"
      },
      "source": [
        "I am accesing data files from my github page."
      ]
    },
    {
      "cell_type": "code",
      "metadata": {
        "colab": {
          "base_uri": "https://localhost:8080/",
          "height": 204
        },
        "id": "wQlzFUeeIegc",
        "outputId": "b6c34584-0555-4033-adf4-3d7cfa824871"
      },
      "source": [
        "datE = pd.read_csv(\"https://raw.githubusercontent.com/rifatcakir/Bayesian-data-analysis-in-the-phonetic-sciences/main/data/english.txt\", delimiter=\"\\t\")\r\n",
        "\r\n",
        "datM = pd.read_csv(\"https://raw.githubusercontent.com/rifatcakir/Bayesian-data-analysis-in-the-phonetic-sciences/main/data/songyuan.txt\", delimiter=\"\\t\")\r\n",
        "\r\n",
        "datE.head() \r\n"
      ],
      "execution_count": 2,
      "outputs": [
        {
          "output_type": "execute_result",
          "data": {
            "text/html": [
              "<div>\n",
              "<style scoped>\n",
              "    .dataframe tbody tr th:only-of-type {\n",
              "        vertical-align: middle;\n",
              "    }\n",
              "\n",
              "    .dataframe tbody tr th {\n",
              "        vertical-align: top;\n",
              "    }\n",
              "\n",
              "    .dataframe thead th {\n",
              "        text-align: right;\n",
              "    }\n",
              "</style>\n",
              "<table border=\"1\" class=\"dataframe\">\n",
              "  <thead>\n",
              "    <tr style=\"text-align: right;\">\n",
              "      <th></th>\n",
              "      <th>utt</th>\n",
              "      <th>subject</th>\n",
              "      <th>gender</th>\n",
              "      <th>StartTime</th>\n",
              "      <th>EndTime</th>\n",
              "      <th>Item</th>\n",
              "      <th>WorldBet</th>\n",
              "      <th>TargetConsonant</th>\n",
              "      <th>TargetVowel</th>\n",
              "      <th>Burst</th>\n",
              "      <th>VOT</th>\n",
              "      <th>VowelEnd</th>\n",
              "      <th>Notes</th>\n",
              "      <th>msVOT</th>\n",
              "      <th>msVowel</th>\n",
              "      <th>logVOT</th>\n",
              "      <th>logVowel</th>\n",
              "      <th>vOff</th>\n",
              "      <th>vOn</th>\n",
              "    </tr>\n",
              "  </thead>\n",
              "  <tbody>\n",
              "    <tr>\n",
              "      <th>0</th>\n",
              "      <td>e9gt01mw_enrw121</td>\n",
              "      <td>e9gt01mw</td>\n",
              "      <td>m</td>\n",
              "      <td>31.689451</td>\n",
              "      <td>32.531513</td>\n",
              "      <td>dnky4</td>\n",
              "      <td>dAn.ki</td>\n",
              "      <td>d</td>\n",
              "      <td>A</td>\n",
              "      <td>31.932228</td>\n",
              "      <td>31.945853</td>\n",
              "      <td>32.073128</td>\n",
              "      <td>NaN</td>\n",
              "      <td>13.625061</td>\n",
              "      <td>140.900013</td>\n",
              "      <td>2.611911</td>\n",
              "      <td>4.948051</td>\n",
              "      <td>NaN</td>\n",
              "      <td>NaN</td>\n",
              "    </tr>\n",
              "    <tr>\n",
              "      <th>1</th>\n",
              "      <td>e9gt01mw_enrw121</td>\n",
              "      <td>e9gt01mw</td>\n",
              "      <td>m</td>\n",
              "      <td>34.651535</td>\n",
              "      <td>35.587680</td>\n",
              "      <td>door5</td>\n",
              "      <td>do9</td>\n",
              "      <td>d</td>\n",
              "      <td>o</td>\n",
              "      <td>34.997306</td>\n",
              "      <td>35.007174</td>\n",
              "      <td>35.224838</td>\n",
              "      <td>NaN</td>\n",
              "      <td>9.867827</td>\n",
              "      <td>227.531612</td>\n",
              "      <td>2.289280</td>\n",
              "      <td>5.427289</td>\n",
              "      <td>NaN</td>\n",
              "      <td>NaN</td>\n",
              "    </tr>\n",
              "    <tr>\n",
              "      <th>2</th>\n",
              "      <td>e9gt01mw_enrw121</td>\n",
              "      <td>e9gt01mw</td>\n",
              "      <td>m</td>\n",
              "      <td>49.620381</td>\n",
              "      <td>50.479756</td>\n",
              "      <td>tnge5</td>\n",
              "      <td>th^N</td>\n",
              "      <td>th</td>\n",
              "      <td>^</td>\n",
              "      <td>49.793717</td>\n",
              "      <td>49.860658</td>\n",
              "      <td>50.061312</td>\n",
              "      <td>NaN</td>\n",
              "      <td>66.940813</td>\n",
              "      <td>267.595631</td>\n",
              "      <td>4.203809</td>\n",
              "      <td>5.589477</td>\n",
              "      <td>NaN</td>\n",
              "      <td>NaN</td>\n",
              "    </tr>\n",
              "    <tr>\n",
              "      <th>3</th>\n",
              "      <td>e9gt01mw_enrw121</td>\n",
              "      <td>e9gt01mw</td>\n",
              "      <td>m</td>\n",
              "      <td>56.293206</td>\n",
              "      <td>56.905279</td>\n",
              "      <td>qwil4</td>\n",
              "      <td>kwhIl</td>\n",
              "      <td>kwh</td>\n",
              "      <td>I</td>\n",
              "      <td>56.359330</td>\n",
              "      <td>56.444342</td>\n",
              "      <td>56.661644</td>\n",
              "      <td>NaN</td>\n",
              "      <td>85.012193</td>\n",
              "      <td>302.313780</td>\n",
              "      <td>4.442795</td>\n",
              "      <td>5.711465</td>\n",
              "      <td>NaN</td>\n",
              "      <td>NaN</td>\n",
              "    </tr>\n",
              "    <tr>\n",
              "      <th>4</th>\n",
              "      <td>e9gt01mw_enrw121</td>\n",
              "      <td>e9gt01mw</td>\n",
              "      <td>m</td>\n",
              "      <td>59.744335</td>\n",
              "      <td>60.541886</td>\n",
              "      <td>cave3n</td>\n",
              "      <td>khev</td>\n",
              "      <td>kh</td>\n",
              "      <td>e</td>\n",
              "      <td>59.808561</td>\n",
              "      <td>59.868863</td>\n",
              "      <td>60.241512</td>\n",
              "      <td>NaN</td>\n",
              "      <td>60.301252</td>\n",
              "      <td>432.950305</td>\n",
              "      <td>4.099353</td>\n",
              "      <td>6.070623</td>\n",
              "      <td>NaN</td>\n",
              "      <td>NaN</td>\n",
              "    </tr>\n",
              "  </tbody>\n",
              "</table>\n",
              "</div>"
            ],
            "text/plain": [
              "                utt   subject gender  StartTime  ...    logVOT  logVowel vOff vOn\n",
              "0  e9gt01mw_enrw121  e9gt01mw      m  31.689451  ...  2.611911  4.948051  NaN NaN\n",
              "1  e9gt01mw_enrw121  e9gt01mw      m  34.651535  ...  2.289280  5.427289  NaN NaN\n",
              "2  e9gt01mw_enrw121  e9gt01mw      m  49.620381  ...  4.203809  5.589477  NaN NaN\n",
              "3  e9gt01mw_enrw121  e9gt01mw      m  56.293206  ...  4.442795  5.711465  NaN NaN\n",
              "4  e9gt01mw_enrw121  e9gt01mw      m  59.744335  ...  4.099353  6.070623  NaN NaN\n",
              "\n",
              "[5 rows x 19 columns]"
            ]
          },
          "metadata": {
            "tags": []
          },
          "execution_count": 2
        }
      ]
    },
    {
      "cell_type": "code",
      "metadata": {
        "colab": {
          "base_uri": "https://localhost:8080/",
          "height": 204
        },
        "id": "ssfPPgqtPwYm",
        "outputId": "819ed323-39a0-4601-ddee-b0b2eeeeab40"
      },
      "source": [
        "datM.head()"
      ],
      "execution_count": 3,
      "outputs": [
        {
          "output_type": "execute_result",
          "data": {
            "text/html": [
              "<div>\n",
              "<style scoped>\n",
              "    .dataframe tbody tr th:only-of-type {\n",
              "        vertical-align: middle;\n",
              "    }\n",
              "\n",
              "    .dataframe tbody tr th {\n",
              "        vertical-align: top;\n",
              "    }\n",
              "\n",
              "    .dataframe thead th {\n",
              "        text-align: right;\n",
              "    }\n",
              "</style>\n",
              "<table border=\"1\" class=\"dataframe\">\n",
              "  <thead>\n",
              "    <tr style=\"text-align: right;\">\n",
              "      <th></th>\n",
              "      <th>utt</th>\n",
              "      <th>subject</th>\n",
              "      <th>gender</th>\n",
              "      <th>StartTime</th>\n",
              "      <th>EndTime</th>\n",
              "      <th>Item</th>\n",
              "      <th>WorldBet</th>\n",
              "      <th>TargetConsonant</th>\n",
              "      <th>TargetVowel</th>\n",
              "      <th>Burst</th>\n",
              "      <th>VOT</th>\n",
              "      <th>VowelEnd</th>\n",
              "      <th>Notes</th>\n",
              "      <th>msVOT</th>\n",
              "      <th>msVowel</th>\n",
              "      <th>logVOT</th>\n",
              "      <th>logVowel</th>\n",
              "    </tr>\n",
              "  </thead>\n",
              "  <tbody>\n",
              "    <tr>\n",
              "      <th>0</th>\n",
              "      <td>s9gt01fw_marw111</td>\n",
              "      <td>s9gt01fw</td>\n",
              "      <td>f</td>\n",
              "      <td>23.852289</td>\n",
              "      <td>24.961060</td>\n",
              "      <td>tnka3</td>\n",
              "      <td>tang2.kuai4</td>\n",
              "      <td>t</td>\n",
              "      <td>a</td>\n",
              "      <td>24.056383</td>\n",
              "      <td>24.138644</td>\n",
              "      <td>24.230231</td>\n",
              "      <td>lip/inhale burst @ 24.0564</td>\n",
              "      <td>82.260779</td>\n",
              "      <td>173.848081</td>\n",
              "      <td>4.409894</td>\n",
              "      <td>5.158182</td>\n",
              "    </tr>\n",
              "    <tr>\n",
              "      <th>1</th>\n",
              "      <td>s9gt01fw_marw111</td>\n",
              "      <td>s9gt01fw</td>\n",
              "      <td>f</td>\n",
              "      <td>36.549973</td>\n",
              "      <td>37.837578</td>\n",
              "      <td>duzi4</td>\n",
              "      <td>du4.zi</td>\n",
              "      <td>d</td>\n",
              "      <td>u</td>\n",
              "      <td>36.845960</td>\n",
              "      <td>36.855682</td>\n",
              "      <td>37.076299</td>\n",
              "      <td>NaN</td>\n",
              "      <td>9.722613</td>\n",
              "      <td>230.339275</td>\n",
              "      <td>2.274454</td>\n",
              "      <td>5.439553</td>\n",
              "    </tr>\n",
              "    <tr>\n",
              "      <th>2</th>\n",
              "      <td>s9gt01fw_marw111</td>\n",
              "      <td>s9gt01fw</td>\n",
              "      <td>f</td>\n",
              "      <td>58.153595</td>\n",
              "      <td>59.369667</td>\n",
              "      <td>dnzi3</td>\n",
              "      <td>ding1.zi</td>\n",
              "      <td>d</td>\n",
              "      <td>i</td>\n",
              "      <td>58.425046</td>\n",
              "      <td>58.435714</td>\n",
              "      <td>58.575377</td>\n",
              "      <td>NaN</td>\n",
              "      <td>10.668562</td>\n",
              "      <td>150.331600</td>\n",
              "      <td>2.367301</td>\n",
              "      <td>5.012844</td>\n",
              "    </tr>\n",
              "    <tr>\n",
              "      <th>3</th>\n",
              "      <td>s9gt01fw_marw111</td>\n",
              "      <td>s9gt01fw</td>\n",
              "      <td>f</td>\n",
              "      <td>60.943408</td>\n",
              "      <td>62.159480</td>\n",
              "      <td>tuzi5</td>\n",
              "      <td>tu4.zi</td>\n",
              "      <td>t</td>\n",
              "      <td>u</td>\n",
              "      <td>61.142675</td>\n",
              "      <td>61.244091</td>\n",
              "      <td>61.398042</td>\n",
              "      <td>microphone sound @ 61.1988</td>\n",
              "      <td>101.415942</td>\n",
              "      <td>255.367214</td>\n",
              "      <td>4.619230</td>\n",
              "      <td>5.542703</td>\n",
              "    </tr>\n",
              "    <tr>\n",
              "      <th>4</th>\n",
              "      <td>s9gt01fw_marw111</td>\n",
              "      <td>s9gt01fw</td>\n",
              "      <td>f</td>\n",
              "      <td>63.447085</td>\n",
              "      <td>64.484323</td>\n",
              "      <td>kuzi5</td>\n",
              "      <td>ku4.zi</td>\n",
              "      <td>k</td>\n",
              "      <td>u</td>\n",
              "      <td>63.664831</td>\n",
              "      <td>63.784175</td>\n",
              "      <td>63.931387</td>\n",
              "      <td>microphone sounds @ 63.7075</td>\n",
              "      <td>119.344099</td>\n",
              "      <td>266.556838</td>\n",
              "      <td>4.782011</td>\n",
              "      <td>5.585587</td>\n",
              "    </tr>\n",
              "  </tbody>\n",
              "</table>\n",
              "</div>"
            ],
            "text/plain": [
              "                utt   subject gender  ...     msVowel    logVOT  logVowel\n",
              "0  s9gt01fw_marw111  s9gt01fw      f  ...  173.848081  4.409894  5.158182\n",
              "1  s9gt01fw_marw111  s9gt01fw      f  ...  230.339275  2.274454  5.439553\n",
              "2  s9gt01fw_marw111  s9gt01fw      f  ...  150.331600  2.367301  5.012844\n",
              "3  s9gt01fw_marw111  s9gt01fw      f  ...  255.367214  4.619230  5.542703\n",
              "4  s9gt01fw_marw111  s9gt01fw      f  ...  266.556838  4.782011  5.585587\n",
              "\n",
              "[5 rows x 17 columns]"
            ]
          },
          "metadata": {
            "tags": []
          },
          "execution_count": 3
        }
      ]
    },
    {
      "cell_type": "markdown",
      "metadata": {
        "id": "cy_rJYXzd1pA"
      },
      "source": [
        "## PreProcess"
      ]
    },
    {
      "cell_type": "markdown",
      "metadata": {
        "id": "o0bChBH-eB6E"
      },
      "source": [
        "### Mandarin"
      ]
    },
    {
      "cell_type": "code",
      "metadata": {
        "colab": {
          "base_uri": "https://localhost:8080/",
          "height": 204
        },
        "id": "sGtwaCjkmTRB",
        "outputId": "8f93418b-2ac4-4a7a-d3f3-e6316a4153e5"
      },
      "source": [
        "## voiceless stops -1, voiced stops +1:\r\n",
        "\r\n",
        "datM[\"voiceN\"] = np.where(datM[\"TargetConsonant\"].isin([\"t\", \"k\"]), -1, 1)\r\n",
        "\r\n",
        "datM[\"genderN\"] = np.where(datM[\"gender\"] == \"f\", .5, -.5)\r\n",
        "\r\n",
        "datM[\"VOTN\"] = round(datM[\"VOT\"])\r\n",
        "\r\n",
        "## Categorical Values \r\n",
        "datM[\"genSubN\"] = (datM[\"gender\"].add(datM[\"subject\"])).astype(\"category\").cat.codes\r\n",
        "\r\n",
        "datM[\"worldBetN\"] = datM.WorldBet.astype(\"category\").cat.codes\r\n",
        "\r\n",
        "\r\n",
        "datM = datM[[\"genSubN\", \"worldBetN\", \"subject\", \"gender\", \"genderN\", \"VOT\", \"msVowel\", \"voiceN\"]]\r\n",
        "\r\n",
        "\r\n",
        "datM_Renamed = datM.rename(columns={\"WorldBet\":\"item\", \"gender\":\"genderfact\", \"genderN\":\"gender\", \"msVowel\":\"vduration\"})\r\n",
        "\r\n",
        "datM_Renamed = datM_Renamed[datM_Renamed[\"voiceN\"] == -1]\r\n",
        "\r\n",
        "datM_Renamed.head()\r\n"
      ],
      "execution_count": 4,
      "outputs": [
        {
          "output_type": "execute_result",
          "data": {
            "text/html": [
              "<div>\n",
              "<style scoped>\n",
              "    .dataframe tbody tr th:only-of-type {\n",
              "        vertical-align: middle;\n",
              "    }\n",
              "\n",
              "    .dataframe tbody tr th {\n",
              "        vertical-align: top;\n",
              "    }\n",
              "\n",
              "    .dataframe thead th {\n",
              "        text-align: right;\n",
              "    }\n",
              "</style>\n",
              "<table border=\"1\" class=\"dataframe\">\n",
              "  <thead>\n",
              "    <tr style=\"text-align: right;\">\n",
              "      <th></th>\n",
              "      <th>genSubN</th>\n",
              "      <th>worldBetN</th>\n",
              "      <th>subject</th>\n",
              "      <th>genderfact</th>\n",
              "      <th>gender</th>\n",
              "      <th>VOT</th>\n",
              "      <th>vduration</th>\n",
              "      <th>voiceN</th>\n",
              "    </tr>\n",
              "  </thead>\n",
              "  <tbody>\n",
              "    <tr>\n",
              "      <th>0</th>\n",
              "      <td>0</td>\n",
              "      <td>14</td>\n",
              "      <td>s9gt01fw</td>\n",
              "      <td>f</td>\n",
              "      <td>0.5</td>\n",
              "      <td>24.138644</td>\n",
              "      <td>173.848081</td>\n",
              "      <td>-1</td>\n",
              "    </tr>\n",
              "    <tr>\n",
              "      <th>3</th>\n",
              "      <td>0</td>\n",
              "      <td>19</td>\n",
              "      <td>s9gt01fw</td>\n",
              "      <td>f</td>\n",
              "      <td>0.5</td>\n",
              "      <td>61.244091</td>\n",
              "      <td>255.367214</td>\n",
              "      <td>-1</td>\n",
              "    </tr>\n",
              "    <tr>\n",
              "      <th>4</th>\n",
              "      <td>0</td>\n",
              "      <td>12</td>\n",
              "      <td>s9gt01fw</td>\n",
              "      <td>f</td>\n",
              "      <td>0.5</td>\n",
              "      <td>63.784175</td>\n",
              "      <td>266.556838</td>\n",
              "      <td>-1</td>\n",
              "    </tr>\n",
              "    <tr>\n",
              "      <th>6</th>\n",
              "      <td>0</td>\n",
              "      <td>11</td>\n",
              "      <td>s9gt01fw</td>\n",
              "      <td>f</td>\n",
              "      <td>0.5</td>\n",
              "      <td>94.100283</td>\n",
              "      <td>195.263651</td>\n",
              "      <td>-1</td>\n",
              "    </tr>\n",
              "    <tr>\n",
              "      <th>8</th>\n",
              "      <td>0</td>\n",
              "      <td>17</td>\n",
              "      <td>s9gt01fw</td>\n",
              "      <td>f</td>\n",
              "      <td>0.5</td>\n",
              "      <td>101.468401</td>\n",
              "      <td>212.920039</td>\n",
              "      <td>-1</td>\n",
              "    </tr>\n",
              "  </tbody>\n",
              "</table>\n",
              "</div>"
            ],
            "text/plain": [
              "   genSubN  worldBetN   subject  ...         VOT   vduration  voiceN\n",
              "0        0         14  s9gt01fw  ...   24.138644  173.848081      -1\n",
              "3        0         19  s9gt01fw  ...   61.244091  255.367214      -1\n",
              "4        0         12  s9gt01fw  ...   63.784175  266.556838      -1\n",
              "6        0         11  s9gt01fw  ...   94.100283  195.263651      -1\n",
              "8        0         17  s9gt01fw  ...  101.468401  212.920039      -1\n",
              "\n",
              "[5 rows x 8 columns]"
            ]
          },
          "metadata": {
            "tags": []
          },
          "execution_count": 4
        }
      ]
    },
    {
      "cell_type": "markdown",
      "metadata": {
        "id": "XFdMzU1kqlxg"
      },
      "source": [
        "### English"
      ]
    },
    {
      "cell_type": "code",
      "metadata": {
        "colab": {
          "base_uri": "https://localhost:8080/",
          "height": 204
        },
        "id": "fYRbIFXFqnb5",
        "outputId": "2e12f178-e341-4909-b392-39bbab13f3b1"
      },
      "source": [
        "## voiceless stops -1, voiced stops +1:\r\n",
        "\r\n",
        "datE[\"voiceN\"] = np.where(datE[\"TargetConsonant\"].isin([\"kh\", \"kjh\", \"kwh\", \"th\", \"twh\"]), -1, 1)\r\n",
        "\r\n",
        "datE[\"genderN\"] = np.where(datE[\"gender\"] == \"f\", .5, -.5)\r\n",
        "\r\n",
        "datE[\"VOTN\"] = round(datE[\"VOT\"])\r\n",
        "\r\n",
        "## Categorical Values \r\n",
        "datE[\"genSubN\"] = (datE[\"gender\"].add(datE[\"subject\"])).astype(\"category\").cat.codes\r\n",
        "\r\n",
        "datE[\"worldBetN\"] = datE.WorldBet.astype(\"category\").cat.codes\r\n",
        "\r\n",
        "\r\n",
        "datE = datE[[\"genSubN\", \"worldBetN\", \"subject\", \"gender\", \"genderN\", \"VOT\", \"msVowel\", \"voiceN\"]]\r\n",
        "\r\n",
        "\r\n",
        "datE_Renamed = datE.rename(columns={\"WorldBet\":\"item\", \"gender\":\"genderfact\", \"genderN\":\"gender\", \"msVowel\":\"vduration\"})\r\n",
        "\r\n",
        "\r\n",
        "\r\n",
        "datE_Renamed = datE_Renamed[datE_Renamed[\"voiceN\"] == -1]\r\n",
        "\r\n",
        "datE_Renamed.head()"
      ],
      "execution_count": 5,
      "outputs": [
        {
          "output_type": "execute_result",
          "data": {
            "text/html": [
              "<div>\n",
              "<style scoped>\n",
              "    .dataframe tbody tr th:only-of-type {\n",
              "        vertical-align: middle;\n",
              "    }\n",
              "\n",
              "    .dataframe tbody tr th {\n",
              "        vertical-align: top;\n",
              "    }\n",
              "\n",
              "    .dataframe thead th {\n",
              "        text-align: right;\n",
              "    }\n",
              "</style>\n",
              "<table border=\"1\" class=\"dataframe\">\n",
              "  <thead>\n",
              "    <tr style=\"text-align: right;\">\n",
              "      <th></th>\n",
              "      <th>genSubN</th>\n",
              "      <th>worldBetN</th>\n",
              "      <th>subject</th>\n",
              "      <th>genderfact</th>\n",
              "      <th>gender</th>\n",
              "      <th>VOT</th>\n",
              "      <th>vduration</th>\n",
              "      <th>voiceN</th>\n",
              "    </tr>\n",
              "  </thead>\n",
              "  <tbody>\n",
              "    <tr>\n",
              "      <th>2</th>\n",
              "      <td>10</td>\n",
              "      <td>49</td>\n",
              "      <td>e9gt01mw</td>\n",
              "      <td>m</td>\n",
              "      <td>-0.5</td>\n",
              "      <td>49.860658</td>\n",
              "      <td>267.595631</td>\n",
              "      <td>-1</td>\n",
              "    </tr>\n",
              "    <tr>\n",
              "      <th>3</th>\n",
              "      <td>10</td>\n",
              "      <td>41</td>\n",
              "      <td>e9gt01mw</td>\n",
              "      <td>m</td>\n",
              "      <td>-0.5</td>\n",
              "      <td>56.444342</td>\n",
              "      <td>302.313780</td>\n",
              "      <td>-1</td>\n",
              "    </tr>\n",
              "    <tr>\n",
              "      <th>4</th>\n",
              "      <td>10</td>\n",
              "      <td>30</td>\n",
              "      <td>e9gt01mw</td>\n",
              "      <td>m</td>\n",
              "      <td>-0.5</td>\n",
              "      <td>59.868863</td>\n",
              "      <td>432.950305</td>\n",
              "      <td>-1</td>\n",
              "    </tr>\n",
              "    <tr>\n",
              "      <th>5</th>\n",
              "      <td>10</td>\n",
              "      <td>39</td>\n",
              "      <td>e9gt01mw</td>\n",
              "      <td>m</td>\n",
              "      <td>-0.5</td>\n",
              "      <td>69.763520</td>\n",
              "      <td>156.066285</td>\n",
              "      <td>-1</td>\n",
              "    </tr>\n",
              "    <tr>\n",
              "      <th>8</th>\n",
              "      <td>10</td>\n",
              "      <td>54</td>\n",
              "      <td>e9gt01mw</td>\n",
              "      <td>m</td>\n",
              "      <td>-0.5</td>\n",
              "      <td>88.775660</td>\n",
              "      <td>219.483993</td>\n",
              "      <td>-1</td>\n",
              "    </tr>\n",
              "  </tbody>\n",
              "</table>\n",
              "</div>"
            ],
            "text/plain": [
              "   genSubN  worldBetN   subject  ...        VOT   vduration  voiceN\n",
              "2       10         49  e9gt01mw  ...  49.860658  267.595631      -1\n",
              "3       10         41  e9gt01mw  ...  56.444342  302.313780      -1\n",
              "4       10         30  e9gt01mw  ...  59.868863  432.950305      -1\n",
              "5       10         39  e9gt01mw  ...  69.763520  156.066285      -1\n",
              "8       10         54  e9gt01mw  ...  88.775660  219.483993      -1\n",
              "\n",
              "[5 rows x 8 columns]"
            ]
          },
          "metadata": {
            "tags": []
          },
          "execution_count": 5
        }
      ]
    },
    {
      "cell_type": "markdown",
      "metadata": {
        "id": "kDGsxQWostCH"
      },
      "source": [
        "# Question 1\r\n",
        "\r\n",
        "Gender on VOT in long-lag stops\r\n",
        "\r\n",
        "We are going to use posterior distribution."
      ]
    },
    {
      "cell_type": "markdown",
      "metadata": {
        "id": "p36RYvSVs0Nh"
      },
      "source": [
        "## Mandorin Model"
      ]
    },
    {
      "cell_type": "code",
      "metadata": {
        "id": "mSnD1snqt40-"
      },
      "source": [
        "genderModel={\r\n",
        "    \"VOT\": [\"developer\"],\r\n",
        "    \"gender\": [\"developer\"]\r\n",
        "}"
      ],
      "execution_count": 5,
      "outputs": []
    },
    {
      "cell_type": "code",
      "metadata": {
        "colab": {
          "base_uri": "https://localhost:8080/"
        },
        "id": "YqvcRGbOs7yw",
        "outputId": "e8c12017-68e0-4cf1-d919-3ec2c86e39cd"
      },
      "source": [
        "with pm.Model() as man_gender_model:\r\n",
        "  b = pm.Normal(\"b\", 0., 50.)\r\n",
        "  sd = pm.Normal(\"sd\", 0., 100.)\r\n",
        "  sigma = pm.Exponential(\"sigma\", 1)\r\n",
        "  a = pm.Normal(\"a\", 0, 200)\r\n",
        "\r\n",
        "  vot_hat = pm.Deterministic(\"vot_hat\", a + b*datM_Renamed[\"gender\"])\r\n",
        "  vot = pm.Normal(\"vot\", mu=vot_hat, sigma=sigma, observed=datM_Renamed[\"VOT\"])\r\n",
        "\r\n",
        "  trace_gender_man_sample = pm.sample(draws=2000, tune=1000, chains=4)\r\n",
        "\r\n",
        "  prior_gender_man_model = pm.sample_prior_predictive()\r\n",
        "\r\n",
        "  posterior_gender_man = pm.sample_posterior_predictive(trace_gender_man_sample)\r\n",
        "\r\n",
        "  gender_vot_model_man = az.from_pymc3(\r\n",
        "    trace=trace_gender_man_sample,\r\n",
        "    prior=prior_gender_man_model,\r\n",
        "    posterior_predictive=posterior_gender_man,\r\n",
        "    dims=genderModel\r\n",
        "  )"
      ],
      "execution_count": 27,
      "outputs": [
        {
          "output_type": "stream",
          "text": [
            "Auto-assigning NUTS sampler...\n",
            "Initializing NUTS using jitter+adapt_diag...\n",
            "Sequential sampling (4 chains in 1 job)\n",
            "NUTS: [a, sigma, sd, b]\n",
            "Sampling chain 0, 0 divergences: 100%|██████████| 3000/3000 [00:05<00:00, 583.74it/s] \n",
            "Sampling chain 1, 0 divergences: 100%|██████████| 3000/3000 [00:03<00:00, 818.73it/s] \n",
            "Sampling chain 2, 0 divergences: 100%|██████████| 3000/3000 [00:04<00:00, 728.42it/s]\n",
            "Sampling chain 3, 0 divergences: 100%|██████████| 3000/3000 [00:04<00:00, 675.31it/s]\n",
            "The acceptance probability does not match the target. It is 0.8861794636717868, but should be close to 0.8. Try to increase the number of tuning steps.\n",
            "100%|██████████| 8000/8000 [00:10<00:00, 738.08it/s]\n"
          ],
          "name": "stderr"
        }
      ]
    },
    {
      "cell_type": "code",
      "metadata": {
        "colab": {
          "base_uri": "https://localhost:8080/",
          "height": 400
        },
        "id": "yZ5-IUed0BaH",
        "outputId": "59b87cf2-96b7-4de3-996f-0eee1ce34d6b"
      },
      "source": [
        "df_man = pd.DataFrame()\r\n",
        "for x in prior_gender_man_model.keys():\r\n",
        "  if x not in ['vot', 'vot_hat']:\r\n",
        "    df_man[x] = prior_gender_man_model[x]\r\n",
        "\r\n",
        "df_man.hist()"
      ],
      "execution_count": 28,
      "outputs": [
        {
          "output_type": "execute_result",
          "data": {
            "text/plain": [
              "array([[<matplotlib.axes._subplots.AxesSubplot object at 0x7ff4932e9208>,\n",
              "        <matplotlib.axes._subplots.AxesSubplot object at 0x7ff4943af780>],\n",
              "       [<matplotlib.axes._subplots.AxesSubplot object at 0x7ff49444e3c8>,\n",
              "        <matplotlib.axes._subplots.AxesSubplot object at 0x7ff494257748>],\n",
              "       [<matplotlib.axes._subplots.AxesSubplot object at 0x7ff494236ac8>,\n",
              "        <matplotlib.axes._subplots.AxesSubplot object at 0x7ff492d210b8>]],\n",
              "      dtype=object)"
            ]
          },
          "metadata": {
            "tags": []
          },
          "execution_count": 28
        },
        {
          "output_type": "display_data",
          "data": {
            "image/png": "[encoded data removed]",
            "text/plain": [
              "<Figure size 432x288 with 6 Axes>"
            ]
          },
          "metadata": {
            "tags": [],
            "needs_background": "light"
          }
        }
      ]
    },
    {
      "cell_type": "code",
      "metadata": {
        "colab": {
          "base_uri": "https://localhost:8080/",
          "height": 330
        },
        "id": "UFeBCipb0YpD",
        "outputId": "d20eb021-5448-43a9-9a80-7fb1f3c7d236"
      },
      "source": [
        "az.plot_posterior(posterior_gender_man)"
      ],
      "execution_count": 29,
      "outputs": [
        {
          "output_type": "execute_result",
          "data": {
            "text/plain": [
              "<matplotlib.axes._subplots.AxesSubplot at 0x7ff493377dd8>"
            ]
          },
          "metadata": {
            "tags": []
          },
          "execution_count": 29
        },
        {
          "output_type": "display_data",
          "data": {
            "image/png": "[encoded data removed]",
            "text/plain": [
              "<Figure size 432x288 with 1 Axes>"
            ]
          },
          "metadata": {
            "tags": [],
            "needs_background": "light"
          }
        }
      ]
    },
    {
      "cell_type": "code",
      "metadata": {
        "colab": {
          "base_uri": "https://localhost:8080/",
          "height": 330
        },
        "id": "zBM8kdVr0dkv",
        "outputId": "1e938563-4ad6-4440-8e04-5dc588ed2777"
      },
      "source": [
        "az.plot_ppc(gender_vot_model_man ,group='posterior')"
      ],
      "execution_count": 31,
      "outputs": [
        {
          "output_type": "execute_result",
          "data": {
            "text/plain": [
              "<matplotlib.axes._subplots.AxesSubplot at 0x7ff492c5aef0>"
            ]
          },
          "metadata": {
            "tags": []
          },
          "execution_count": 31
        },
        {
          "output_type": "display_data",
          "data": {
            "image/png": "[encoded data removed]",
            "text/plain": [
              "<Figure size 432x288 with 1 Axes>"
            ]
          },
          "metadata": {
            "tags": [],
            "needs_background": "light"
          }
        }
      ]
    },
    {
      "cell_type": "markdown",
      "metadata": {
        "id": "c75SIj_WoC8X"
      },
      "source": [
        "**Its not fitting perfecty to model there should be modification for sample ranges.**"
      ]
    },
    {
      "cell_type": "markdown",
      "metadata": {
        "id": "SFvT2VhL2Tz1"
      },
      "source": [
        "## English Model"
      ]
    },
    {
      "cell_type": "code",
      "metadata": {
        "colab": {
          "base_uri": "https://localhost:8080/"
        },
        "id": "u3zucZkv2YzH",
        "outputId": "ac8aa9ca-98fb-4c89-e676-58e245e5c327"
      },
      "source": [
        "with pm.Model() as english_gender_model:\r\n",
        "  b = pm.Normal(\"b\", 0., 50.)\r\n",
        "  sd = pm.Normal(\"sd\", 0., 100.)\r\n",
        "  a = pm.Normal(\"a\", 0, 200.)\r\n",
        "  sigma = pm.Exponential(\"sigma\", 1)\r\n",
        "\r\n",
        "  vot_hat = pm.Deterministic(\"vot_hat\", a + b*datE_Renamed[\"gender\"])\r\n",
        "  vot = pm.Normal(\"vot\", mu=vot_hat, sigma=sigma, observed=datE_Renamed[\"VOT\"])\r\n",
        "\r\n",
        "  trace_gender_en_sample = pm.sample(draws=2000, tune=1000, chains=4)\r\n",
        "  prior_gender_en_model = pm.sample_prior_predictive()\r\n",
        "  posterior_gender_en = pm.sample_posterior_predictive(trace_gender_en_sample)\r\n",
        "\r\n",
        "  gender_vot_model_en = az.from_pymc3(\r\n",
        "    trace=trace_gender_en_sample,\r\n",
        "    prior=prior_gender_en_model,\r\n",
        "    posterior_predictive=posterior_gender_en,\r\n",
        "    dims=genderModel\r\n",
        "  )"
      ],
      "execution_count": 33,
      "outputs": [
        {
          "output_type": "stream",
          "text": [
            "Auto-assigning NUTS sampler...\n",
            "Initializing NUTS using jitter+adapt_diag...\n",
            "Sequential sampling (4 chains in 1 job)\n",
            "NUTS: [sigma, a, sd, b]\n",
            "Sampling chain 0, 0 divergences: 100%|██████████| 3000/3000 [00:04<00:00, 655.89it/s] \n",
            "Sampling chain 1, 0 divergences: 100%|██████████| 3000/3000 [00:07<00:00, 390.35it/s]\n",
            "Sampling chain 2, 0 divergences: 100%|██████████| 3000/3000 [00:11<00:00, 260.68it/s]\n",
            "Sampling chain 3, 0 divergences: 100%|██████████| 3000/3000 [00:19<00:00, 150.96it/s]\n",
            "The acceptance probability does not match the target. It is 0.9002857242582624, but should be close to 0.8. Try to increase the number of tuning steps.\n",
            "The acceptance probability does not match the target. It is 0.9248361485397482, but should be close to 0.8. Try to increase the number of tuning steps.\n",
            "100%|██████████| 8000/8000 [00:10<00:00, 735.89it/s]\n"
          ],
          "name": "stderr"
        }
      ]
    },
    {
      "cell_type": "code",
      "metadata": {
        "colab": {
          "base_uri": "https://localhost:8080/",
          "height": 400
        },
        "id": "ivQHxCCG3JNs",
        "outputId": "fc7af00b-3a80-400f-82b6-82371a16a652"
      },
      "source": [
        "df_man = pd.DataFrame()\r\n",
        "for x in prior_gender_en_model.keys():\r\n",
        "  if x not in ['vot', 'vot_hat']:\r\n",
        "    df_man[x] = prior_gender_en_model[x]\r\n",
        "\r\n",
        "df_man.hist()"
      ],
      "execution_count": 15,
      "outputs": [
        {
          "output_type": "execute_result",
          "data": {
            "text/plain": [
              "array([[<matplotlib.axes._subplots.AxesSubplot object at 0x7ff4a80b4cf8>,\n",
              "        <matplotlib.axes._subplots.AxesSubplot object at 0x7ff49364d940>],\n",
              "       [<matplotlib.axes._subplots.AxesSubplot object at 0x7ff4935e2320>,\n",
              "        <matplotlib.axes._subplots.AxesSubplot object at 0x7ff493609160>],\n",
              "       [<matplotlib.axes._subplots.AxesSubplot object at 0x7ff4934f89b0>,\n",
              "        <matplotlib.axes._subplots.AxesSubplot object at 0x7ff493522d30>]],\n",
              "      dtype=object)"
            ]
          },
          "metadata": {
            "tags": []
          },
          "execution_count": 15
        },
        {
          "output_type": "display_data",
          "data": {
            "image/png": "[encoded data removed]",
            "text/plain": [
              "<Figure size 432x288 with 6 Axes>"
            ]
          },
          "metadata": {
            "tags": [],
            "needs_background": "light"
          }
        }
      ]
    },
    {
      "cell_type": "code",
      "metadata": {
        "colab": {
          "base_uri": "https://localhost:8080/",
          "height": 330
        },
        "id": "hFlAnDVU3Ply",
        "outputId": "ede71935-1dab-4301-a554-1bad15b3821f"
      },
      "source": [
        "az.plot_posterior(posterior_gender_en)"
      ],
      "execution_count": 16,
      "outputs": [
        {
          "output_type": "execute_result",
          "data": {
            "text/plain": [
              "<matplotlib.axes._subplots.AxesSubplot at 0x7ff493425dd8>"
            ]
          },
          "metadata": {
            "tags": []
          },
          "execution_count": 16
        },
        {
          "output_type": "display_data",
          "data": {
            "image/png": "[encoded data removed]",
            "text/plain": [
              "<Figure size 432x288 with 1 Axes>"
            ]
          },
          "metadata": {
            "tags": [],
            "needs_background": "light"
          }
        }
      ]
    },
    {
      "cell_type": "code",
      "metadata": {
        "colab": {
          "base_uri": "https://localhost:8080/",
          "height": 330
        },
        "id": "_OIwhZfE3VwE",
        "outputId": "4ad63acb-fab6-4f95-b164-8187e01be173"
      },
      "source": [
        "az.plot_ppc(gender_vot_model_en ,group='posterior')"
      ],
      "execution_count": 34,
      "outputs": [
        {
          "output_type": "execute_result",
          "data": {
            "text/plain": [
              "<matplotlib.axes._subplots.AxesSubplot at 0x7ff48d17c9b0>"
            ]
          },
          "metadata": {
            "tags": []
          },
          "execution_count": 34
        },
        {
          "output_type": "display_data",
          "data": {
            "image/png": "[encoded data removed]",
            "text/plain": [
              "<Figure size 432x288 with 1 Axes>"
            ]
          },
          "metadata": {
            "tags": [],
            "needs_background": "light"
          }
        }
      ]
    },
    {
      "cell_type": "markdown",
      "metadata": {
        "id": "0MYDVKpQoSBU"
      },
      "source": [
        "**HDI ratio is good our range is starting from -100 and fit is not perfect.**"
      ]
    },
    {
      "cell_type": "markdown",
      "metadata": {
        "id": "43KxjbFOFccm"
      },
      "source": [
        "# Question 2\r\n",
        "\r\n",
        "The effect of typical vowel duration on VOT"
      ]
    },
    {
      "cell_type": "markdown",
      "metadata": {
        "id": "pdbPeng2S5Sb"
      },
      "source": [
        "We will check cross-linguistic difference between Mandarin and English in the gender effect on VOT, and in the effect of vowel duration\r\n",
        "on VOT."
      ]
    },
    {
      "cell_type": "markdown",
      "metadata": {
        "id": "UYi-YlUITeFX"
      },
      "source": [
        "## Measurement Mandalin error model"
      ]
    },
    {
      "cell_type": "markdown",
      "metadata": {
        "id": "tiUKqvkhUPvT"
      },
      "source": [
        "### PreProcess\r\n"
      ]
    },
    {
      "cell_type": "code",
      "metadata": {
        "colab": {
          "base_uri": "https://localhost:8080/",
          "height": 0
        },
        "id": "R-jcHNSdURm_",
        "outputId": "68cce547-db04-47ef-9c50-245dc1eaf938"
      },
      "source": [
        "\r\n",
        "dataM_EM = datM_Renamed[datM_Renamed[\"voiceN\"]==-1].groupby([\"subject\"], as_index=False).agg({\"vduration\":[\"mean\",\"std\",\"count\"], \"VOT\":[\"mean\",\"std\",\"count\"]})\r\n",
        "\r\n",
        "## create a df template \r\n",
        "dataM_EM_tp = pd.DataFrame()\r\n",
        "\r\n",
        "## set subject\r\n",
        "dataM_EM_tp[\"subject\"] = dataM_EM[\"subject\"]\r\n",
        "\r\n",
        "## set mean of vduration\r\n",
        "dataM_EM_tp[\"meanvdur\"] =dataM_EM[\"vduration\"][\"mean\"]\r\n",
        "\r\n",
        "## scale meanvdur \r\n",
        "dataM_EM_tp[\"cmeanvdur\"] = pd.DataFrame(scale(dataM_EM_tp[\"meanvdur\"]))\r\n",
        "\r\n",
        "## set std of vduration\r\n",
        "dataM_EM_tp[\"stdvdur\"] = dataM_EM[\"vduration\"][\"std\"]\r\n",
        "\r\n",
        "## calculate sevdur\r\n",
        "dataM_EM_tp[\"sevdur\"] = dataM_EM[\"vduration\"][\"std\"] / np.sqrt(dataM_EM[\"vduration\"][\"count\"])\r\n",
        "\r\n",
        "## calculate sevdur / stdvdur\r\n",
        "dataM_EM_tp[\"sestdvdur\"] = dataM_EM_tp[\"sevdur\"] / dataM_EM_tp[\"stdvdur\"]\r\n",
        "\r\n",
        "## set mean of VOT\r\n",
        "dataM_EM_tp[\"meanVOT\"] = dataM_EM[\"VOT\"][\"mean\"]\r\n",
        "\r\n",
        "## find std of VOT and divide it\r\n",
        "dataM_EM_tp[\"seVOT\"] = dataM_EM[\"VOT\"][\"std\"] / np.sqrt(dataM_EM[\"VOT\"][\"count\"])\r\n",
        "\r\n",
        "dataM_EM_tp.head()"
      ],
      "execution_count": 6,
      "outputs": [
        {
          "output_type": "execute_result",
          "data": {
            "text/html": [
              "<div>\n",
              "<style scoped>\n",
              "    .dataframe tbody tr th:only-of-type {\n",
              "        vertical-align: middle;\n",
              "    }\n",
              "\n",
              "    .dataframe tbody tr th {\n",
              "        vertical-align: top;\n",
              "    }\n",
              "\n",
              "    .dataframe thead th {\n",
              "        text-align: right;\n",
              "    }\n",
              "</style>\n",
              "<table border=\"1\" class=\"dataframe\">\n",
              "  <thead>\n",
              "    <tr style=\"text-align: right;\">\n",
              "      <th></th>\n",
              "      <th>subject</th>\n",
              "      <th>meanvdur</th>\n",
              "      <th>cmeanvdur</th>\n",
              "      <th>stdvdur</th>\n",
              "      <th>sevdur</th>\n",
              "      <th>sestdvdur</th>\n",
              "      <th>meanVOT</th>\n",
              "      <th>seVOT</th>\n",
              "    </tr>\n",
              "  </thead>\n",
              "  <tbody>\n",
              "    <tr>\n",
              "      <th>0</th>\n",
              "      <td>s9gt01fw</td>\n",
              "      <td>231.020801</td>\n",
              "      <td>0.327928</td>\n",
              "      <td>59.078297</td>\n",
              "      <td>18.682198</td>\n",
              "      <td>0.316228</td>\n",
              "      <td>69.852341</td>\n",
              "      <td>9.204850</td>\n",
              "    </tr>\n",
              "    <tr>\n",
              "      <th>1</th>\n",
              "      <td>s9gt02fw</td>\n",
              "      <td>247.118195</td>\n",
              "      <td>0.956995</td>\n",
              "      <td>45.371013</td>\n",
              "      <td>14.347574</td>\n",
              "      <td>0.316228</td>\n",
              "      <td>62.855787</td>\n",
              "      <td>9.264652</td>\n",
              "    </tr>\n",
              "    <tr>\n",
              "      <th>2</th>\n",
              "      <td>s9gt03fw</td>\n",
              "      <td>224.132314</td>\n",
              "      <td>0.058735</td>\n",
              "      <td>46.636881</td>\n",
              "      <td>14.747877</td>\n",
              "      <td>0.316228</td>\n",
              "      <td>64.484586</td>\n",
              "      <td>12.215414</td>\n",
              "    </tr>\n",
              "    <tr>\n",
              "      <th>3</th>\n",
              "      <td>s9gt04fw</td>\n",
              "      <td>249.070203</td>\n",
              "      <td>1.033277</td>\n",
              "      <td>51.795524</td>\n",
              "      <td>16.379183</td>\n",
              "      <td>0.316228</td>\n",
              "      <td>63.331775</td>\n",
              "      <td>11.801162</td>\n",
              "    </tr>\n",
              "    <tr>\n",
              "      <th>4</th>\n",
              "      <td>s9gt05fw</td>\n",
              "      <td>224.768456</td>\n",
              "      <td>0.083594</td>\n",
              "      <td>51.704612</td>\n",
              "      <td>16.350434</td>\n",
              "      <td>0.316228</td>\n",
              "      <td>86.741778</td>\n",
              "      <td>10.351585</td>\n",
              "    </tr>\n",
              "  </tbody>\n",
              "</table>\n",
              "</div>"
            ],
            "text/plain": [
              "    subject    meanvdur  cmeanvdur  ...  sestdvdur    meanVOT      seVOT\n",
              "0  s9gt01fw  231.020801   0.327928  ...   0.316228  69.852341   9.204850\n",
              "1  s9gt02fw  247.118195   0.956995  ...   0.316228  62.855787   9.264652\n",
              "2  s9gt03fw  224.132314   0.058735  ...   0.316228  64.484586  12.215414\n",
              "3  s9gt04fw  249.070203   1.033277  ...   0.316228  63.331775  11.801162\n",
              "4  s9gt05fw  224.768456   0.083594  ...   0.316228  86.741778  10.351585\n",
              "\n",
              "[5 rows x 8 columns]"
            ]
          },
          "metadata": {
            "tags": []
          },
          "execution_count": 6
        }
      ]
    },
    {
      "cell_type": "markdown",
      "metadata": {
        "id": "R9upN3-5UXVz"
      },
      "source": [
        "### Model"
      ]
    },
    {
      "cell_type": "code",
      "metadata": {
        "id": "xQIthSIkOs6C"
      },
      "source": [
        "vdur_vot_model_dimensions={\r\n",
        "    \"VOT\": [\"developer\"],\r\n",
        "    \"cmeanvdur\": [\"developer\"],\r\n",
        "    \"sevdur\": [\"developer\"]\r\n",
        "}"
      ],
      "execution_count": 68,
      "outputs": []
    },
    {
      "cell_type": "code",
      "metadata": {
        "colab": {
          "base_uri": "https://localhost:8080/"
        },
        "id": "BBlKaKIqOUKu",
        "outputId": "15fd75ac-07c9-4795-fa1d-39690bef4623"
      },
      "source": [
        "# model for mandarin\r\n",
        "with pm.Model() as vdur_vot_model_mn:\r\n",
        "  a = pm.Normal(\"a\", 0, 200)\r\n",
        "  b = pm.Normal(\"b\", 0, 5)\r\n",
        "  bC = pm.Normal(\"bC\", 0, 5)\r\n",
        "  sigma = pm.Exponential(\"sigma\", 1)\r\n",
        "\r\n",
        "  mvot_hat = pm.Deterministic(\"mvot_hat\", a + b*dataM_EM_tp[\"cmeanvdur\"] + bC*dataM_EM_tp[\"sevdur\"])\r\n",
        "  mvot = pm.Normal(\"mvot\", mu=mvot_hat, sigma=sigma, observed=dataM_EM_tp[\"meanVOT\"])\r\n",
        "\r\n",
        "  trace_vdur_vot_model_mn = pm.sample(draws=2000, tune=1000, chains=4)\r\n",
        "  prior_vdur_vot_model_mn = pm.sample_prior_predictive()\r\n",
        "  posterior_vdur_vot_model_mn = pm.sample_posterior_predictive(trace_vdur_vot_model_mn)\r\n",
        "\r\n",
        "  az_vdur_vot_model_mn = az.from_pymc3(\r\n",
        "    trace=trace_vdur_vot_model_mn,\r\n",
        "    prior=prior_vdur_vot_model_mn,\r\n",
        "    posterior_predictive=posterior_vdur_vot_model_mn,\r\n",
        "    dims=vdur_vot_model_dimensions\r\n",
        "  )"
      ],
      "execution_count": 69,
      "outputs": [
        {
          "output_type": "stream",
          "text": [
            "Auto-assigning NUTS sampler...\n",
            "Initializing NUTS using jitter+adapt_diag...\n",
            "Sequential sampling (4 chains in 1 job)\n",
            "NUTS: [sigma, bC, b, a]\n",
            "Sampling chain 0, 0 divergences: 100%|██████████| 3000/3000 [00:10<00:00, 289.50it/s]\n",
            "Sampling chain 1, 0 divergences: 100%|██████████| 3000/3000 [00:10<00:00, 289.95it/s]\n",
            "Sampling chain 2, 0 divergences: 100%|██████████| 3000/3000 [00:10<00:00, 280.93it/s]\n",
            "Sampling chain 3, 0 divergences: 100%|██████████| 3000/3000 [00:10<00:00, 286.34it/s]\n",
            "100%|██████████| 8000/8000 [00:10<00:00, 748.14it/s]\n"
          ],
          "name": "stderr"
        }
      ]
    },
    {
      "cell_type": "code",
      "metadata": {
        "colab": {
          "base_uri": "https://localhost:8080/",
          "height": 400
        },
        "id": "PmQSXBEjOZ8v",
        "outputId": "17e66711-745c-4524-8019-97b2f8ee29e2"
      },
      "source": [
        "df_mn = pd.DataFrame()\r\n",
        "for x in prior_vdur_vot_model_mn.keys():\r\n",
        "  if x not in ['mvot', 'mvot_hat']:\r\n",
        "    df_mn[x] = prior_vdur_vot_model_mn[x]\r\n",
        "\r\n",
        "df_mn.hist()"
      ],
      "execution_count": 38,
      "outputs": [
        {
          "output_type": "execute_result",
          "data": {
            "text/plain": [
              "array([[<matplotlib.axes._subplots.AxesSubplot object at 0x7fc2091bb278>,\n",
              "        <matplotlib.axes._subplots.AxesSubplot object at 0x7fc20a05f518>],\n",
              "       [<matplotlib.axes._subplots.AxesSubplot object at 0x7fc209e1c080>,\n",
              "        <matplotlib.axes._subplots.AxesSubplot object at 0x7fc208f0ae10>],\n",
              "       [<matplotlib.axes._subplots.AxesSubplot object at 0x7fc209fa7198>,\n",
              "        <matplotlib.axes._subplots.AxesSubplot object at 0x7fc209dfa518>]],\n",
              "      dtype=object)"
            ]
          },
          "metadata": {
            "tags": []
          },
          "execution_count": 38
        },
        {
          "output_type": "display_data",
          "data": {
            "image/png": "[encoded data removed]",
            "text/plain": [
              "<Figure size 432x288 with 6 Axes>"
            ]
          },
          "metadata": {
            "tags": [],
            "needs_background": "light"
          }
        }
      ]
    },
    {
      "cell_type": "code",
      "metadata": {
        "colab": {
          "base_uri": "https://localhost:8080/",
          "height": 330
        },
        "id": "BPVfTj1mObQz",
        "outputId": "3a4e54b3-d7fc-4c78-ffd5-b317011c1779"
      },
      "source": [
        "az.plot_posterior(posterior_vdur_vot_model_mn)"
      ],
      "execution_count": 39,
      "outputs": [
        {
          "output_type": "execute_result",
          "data": {
            "text/plain": [
              "<matplotlib.axes._subplots.AxesSubplot at 0x7fc209da3358>"
            ]
          },
          "metadata": {
            "tags": []
          },
          "execution_count": 39
        },
        {
          "output_type": "display_data",
          "data": {
            "image/png": "[encoded data removed]",
            "text/plain": [
              "<Figure size 432x288 with 1 Axes>"
            ]
          },
          "metadata": {
            "tags": [],
            "needs_background": "light"
          }
        }
      ]
    },
    {
      "cell_type": "markdown",
      "metadata": {
        "id": "_4qEWcGgO4uF"
      },
      "source": [
        "## Measurement English error model"
      ]
    },
    {
      "cell_type": "markdown",
      "metadata": {
        "id": "lkdeWvecGo2q"
      },
      "source": [
        "### PreProcess"
      ]
    },
    {
      "cell_type": "code",
      "metadata": {
        "colab": {
          "base_uri": "https://localhost:8080/",
          "height": 0
        },
        "id": "C71fqHFuVYXu",
        "outputId": "d9c638a7-4312-44eb-c750-33299bc34c3d"
      },
      "source": [
        "\r\n",
        "dataE_EM = datE_Renamed[datE_Renamed[\"voiceN\"]==-1].groupby([\"subject\"], as_index=False).agg({\"vduration\":[\"mean\",\"std\",\"count\"], \"VOT\":[\"mean\",\"std\",\"count\"]})\r\n",
        "\r\n",
        "## create a df template \r\n",
        "dataE_EM_tp = pd.DataFrame()\r\n",
        "\r\n",
        "## set subject\r\n",
        "dataE_EM_tp[\"subject\"] = dataE_EM[\"subject\"]\r\n",
        "\r\n",
        "## set mean of vduration\r\n",
        "dataE_EM_tp[\"meanvdur\"] =dataE_EM[\"vduration\"][\"mean\"]\r\n",
        "\r\n",
        "## scale meanvdur \"\r\n",
        "dataE_EM_tp[\"cmeanvdur\"] = pd.DataFrame(scale(dataE_EM_tp[\"meanvdur\"]))\r\n",
        "\r\n",
        "## set std of vduration\r\n",
        "dataE_EM_tp[\"stdvdur\"] = dataE_EM[\"vduration\"][\"std\"]\r\n",
        "\r\n",
        "## calculate sevdur\r\n",
        "dataE_EM_tp[\"sevdur\"] = dataE_EM[\"vduration\"][\"std\"] / np.sqrt(dataE_EM[\"vduration\"][\"count\"])\r\n",
        "\r\n",
        "## calculate sevdur / stdvdur\r\n",
        "dataE_EM_tp[\"sestdvdur\"] = dataE_EM_tp[\"sevdur\"] / dataE_EM_tp[\"stdvdur\"]\r\n",
        "\r\n",
        "## set mean of VOT\r\n",
        "dataE_EM_tp[\"meanVOT\"] = dataE_EM[\"VOT\"][\"mean\"]\r\n",
        "\r\n",
        "## find std of VOT and divide it\r\n",
        "dataE_EM_tp[\"seVOT\"] = dataE_EM[\"VOT\"][\"std\"] / np.sqrt(dataE_EM[\"VOT\"][\"count\"])\r\n",
        "\r\n",
        "dataE_EM_tp.head()"
      ],
      "execution_count": 7,
      "outputs": [
        {
          "output_type": "execute_result",
          "data": {
            "text/html": [
              "<div>\n",
              "<style scoped>\n",
              "    .dataframe tbody tr th:only-of-type {\n",
              "        vertical-align: middle;\n",
              "    }\n",
              "\n",
              "    .dataframe tbody tr th {\n",
              "        vertical-align: top;\n",
              "    }\n",
              "\n",
              "    .dataframe thead th {\n",
              "        text-align: right;\n",
              "    }\n",
              "</style>\n",
              "<table border=\"1\" class=\"dataframe\">\n",
              "  <thead>\n",
              "    <tr style=\"text-align: right;\">\n",
              "      <th></th>\n",
              "      <th>subject</th>\n",
              "      <th>meanvdur</th>\n",
              "      <th>cmeanvdur</th>\n",
              "      <th>stdvdur</th>\n",
              "      <th>sevdur</th>\n",
              "      <th>sestdvdur</th>\n",
              "      <th>meanVOT</th>\n",
              "      <th>seVOT</th>\n",
              "    </tr>\n",
              "  </thead>\n",
              "  <tbody>\n",
              "    <tr>\n",
              "      <th>0</th>\n",
              "      <td>e9gt01mw</td>\n",
              "      <td>243.755361</td>\n",
              "      <td>0.481540</td>\n",
              "      <td>94.035981</td>\n",
              "      <td>14.510067</td>\n",
              "      <td>0.154303</td>\n",
              "      <td>123.105735</td>\n",
              "      <td>6.794593</td>\n",
              "    </tr>\n",
              "    <tr>\n",
              "      <th>1</th>\n",
              "      <td>e9gt02mw</td>\n",
              "      <td>195.465718</td>\n",
              "      <td>-1.729525</td>\n",
              "      <td>64.719659</td>\n",
              "      <td>10.107513</td>\n",
              "      <td>0.156174</td>\n",
              "      <td>91.128550</td>\n",
              "      <td>7.471602</td>\n",
              "    </tr>\n",
              "    <tr>\n",
              "      <th>2</th>\n",
              "      <td>e9gt03fw</td>\n",
              "      <td>240.297155</td>\n",
              "      <td>0.323197</td>\n",
              "      <td>80.998667</td>\n",
              "      <td>12.498366</td>\n",
              "      <td>0.154303</td>\n",
              "      <td>104.504371</td>\n",
              "      <td>7.875319</td>\n",
              "    </tr>\n",
              "    <tr>\n",
              "      <th>3</th>\n",
              "      <td>e9gt04mw</td>\n",
              "      <td>193.154420</td>\n",
              "      <td>-1.835354</td>\n",
              "      <td>69.037248</td>\n",
              "      <td>10.652679</td>\n",
              "      <td>0.154303</td>\n",
              "      <td>129.196421</td>\n",
              "      <td>9.516746</td>\n",
              "    </tr>\n",
              "    <tr>\n",
              "      <th>4</th>\n",
              "      <td>e9gt05fw</td>\n",
              "      <td>272.153314</td>\n",
              "      <td>1.781813</td>\n",
              "      <td>96.716397</td>\n",
              "      <td>14.923664</td>\n",
              "      <td>0.154303</td>\n",
              "      <td>108.714463</td>\n",
              "      <td>6.299116</td>\n",
              "    </tr>\n",
              "  </tbody>\n",
              "</table>\n",
              "</div>"
            ],
            "text/plain": [
              "    subject    meanvdur  cmeanvdur  ...  sestdvdur     meanVOT     seVOT\n",
              "0  e9gt01mw  243.755361   0.481540  ...   0.154303  123.105735  6.794593\n",
              "1  e9gt02mw  195.465718  -1.729525  ...   0.156174   91.128550  7.471602\n",
              "2  e9gt03fw  240.297155   0.323197  ...   0.154303  104.504371  7.875319\n",
              "3  e9gt04mw  193.154420  -1.835354  ...   0.154303  129.196421  9.516746\n",
              "4  e9gt05fw  272.153314   1.781813  ...   0.154303  108.714463  6.299116\n",
              "\n",
              "[5 rows x 8 columns]"
            ]
          },
          "metadata": {
            "tags": []
          },
          "execution_count": 7
        }
      ]
    },
    {
      "cell_type": "markdown",
      "metadata": {
        "id": "dh7-d6QWNiO8"
      },
      "source": [
        "### English"
      ]
    },
    {
      "cell_type": "code",
      "metadata": {
        "colab": {
          "base_uri": "https://localhost:8080/"
        },
        "id": "Xdx4OGnvO6Y1",
        "outputId": "9597a47e-bf97-43fb-86f1-9dd98d46e57f"
      },
      "source": [
        "# model for english\r\n",
        "with pm.Model() as vdur_vot_model_en:\r\n",
        "  a = pm.Normal(\"a\", 0, 200)\r\n",
        "  b = pm.Normal(\"b\", 0, 5)\r\n",
        "  bC = pm.Normal(\"bC\", 0, 5)\r\n",
        "  sigma = pm.Exponential(\"sigma\", 1)\r\n",
        "\r\n",
        "  mvot_hat = pm.Deterministic(\"mvot_hat\", a + b*dataE_EM_tp[\"cmeanvdur\"] + bC*dataE_EM_tp[\"sevdur\"])\r\n",
        "  mvot = pm.Normal(\"mvot\", mu=mvot_hat, sigma=sigma, observed=dataE_EM_tp[\"meanVOT\"])\r\n",
        "\r\n",
        "  trace_vdur_vot_model_en = pm.sample(draws=2000, tune=1000, chains=4)\r\n",
        "  prior_vdur_vot_model_en = pm.sample_prior_predictive()\r\n",
        "  posterior_vdur_vot_model_en = pm.sample_posterior_predictive(trace_vdur_vot_model_en)\r\n",
        "\r\n",
        "  az_vdur_vot_model_en = az.from_pymc3(\r\n",
        "    trace=trace_vdur_vot_model_en,\r\n",
        "    prior=prior_vdur_vot_model_en,\r\n",
        "    posterior_predictive=posterior_vdur_vot_model_en,\r\n",
        "    dims=vdur_vot_model_dimensions\r\n",
        "  )"
      ],
      "execution_count": 72,
      "outputs": [
        {
          "output_type": "stream",
          "text": [
            "Auto-assigning NUTS sampler...\n",
            "Initializing NUTS using jitter+adapt_diag...\n",
            "Sequential sampling (4 chains in 1 job)\n",
            "NUTS: [sigma, bC, b, a]\n",
            "Sampling chain 0, 0 divergences: 100%|██████████| 3000/3000 [00:12<00:00, 235.78it/s]\n",
            "Sampling chain 1, 0 divergences: 100%|██████████| 3000/3000 [00:12<00:00, 237.51it/s]\n",
            "Sampling chain 2, 3 divergences: 100%|██████████| 3000/3000 [00:12<00:00, 243.16it/s]\n",
            "Sampling chain 3, 0 divergences: 100%|██████████| 3000/3000 [00:13<00:00, 225.34it/s]\n",
            "There were 3 divergences after tuning. Increase `target_accept` or reparameterize.\n",
            "There were 3 divergences after tuning. Increase `target_accept` or reparameterize.\n",
            "The number of effective samples is smaller than 25% for some parameters.\n",
            "100%|██████████| 8000/8000 [00:10<00:00, 751.07it/s]\n"
          ],
          "name": "stderr"
        }
      ]
    },
    {
      "cell_type": "code",
      "metadata": {
        "colab": {
          "base_uri": "https://localhost:8080/",
          "height": 400
        },
        "id": "uSzm3I_DO8gI",
        "outputId": "5f633288-5387-4d54-9a0e-0dc37c22ee19"
      },
      "source": [
        "df_en = pd.DataFrame()\r\n",
        "for x in prior_vdur_vot_model_en.keys():\r\n",
        "  if x not in ['mvot', 'mvot_hat']:\r\n",
        "    df_en[x] = prior_vdur_vot_model_en[x]\r\n",
        "\r\n",
        "df_en.hist()"
      ],
      "execution_count": 73,
      "outputs": [
        {
          "output_type": "execute_result",
          "data": {
            "text/plain": [
              "array([[<matplotlib.axes._subplots.AxesSubplot object at 0x7fc2090fcf98>,\n",
              "        <matplotlib.axes._subplots.AxesSubplot object at 0x7fc208064780>],\n",
              "       [<matplotlib.axes._subplots.AxesSubplot object at 0x7fc2092afda0>,\n",
              "        <matplotlib.axes._subplots.AxesSubplot object at 0x7fc20931e7f0>],\n",
              "       [<matplotlib.axes._subplots.AxesSubplot object at 0x7fc20929bac8>,\n",
              "        <matplotlib.axes._subplots.AxesSubplot object at 0x7fc2073197f0>]],\n",
              "      dtype=object)"
            ]
          },
          "metadata": {
            "tags": []
          },
          "execution_count": 73
        },
        {
          "output_type": "display_data",
          "data": {
            "image/png": "[encoded data removed]",
            "text/plain": [
              "<Figure size 432x288 with 6 Axes>"
            ]
          },
          "metadata": {
            "tags": [],
            "needs_background": "light"
          }
        }
      ]
    },
    {
      "cell_type": "code",
      "metadata": {
        "colab": {
          "base_uri": "https://localhost:8080/",
          "height": 330
        },
        "id": "4HofnZsuO95b",
        "outputId": "9476c3cd-4386-4f42-db62-5be7e236eb77"
      },
      "source": [
        "az.plot_posterior(posterior_vdur_vot_model_en)"
      ],
      "execution_count": 74,
      "outputs": [
        {
          "output_type": "execute_result",
          "data": {
            "text/plain": [
              "<matplotlib.axes._subplots.AxesSubplot at 0x7fc207ea1c50>"
            ]
          },
          "metadata": {
            "tags": []
          },
          "execution_count": 74
        },
        {
          "output_type": "display_data",
          "data": {
            "image/png": "[encoded data removed]",
            "text/plain": [
              "<Figure size 432x288 with 1 Axes>"
            ]
          },
          "metadata": {
            "tags": [],
            "needs_background": "light"
          }
        }
      ]
    },
    {
      "cell_type": "markdown",
      "metadata": {
        "id": "72_8CdFxZCnm"
      },
      "source": [
        "# Question 3\r\n",
        "\r\n",
        "Cross-linguistic differences between Mandarin and English for questions 1 and 2\r\n",
        "\r\n"
      ]
    },
    {
      "cell_type": "markdown",
      "metadata": {
        "id": "bwUcujuSa0xt"
      },
      "source": [
        "## Preprocess for stops"
      ]
    },
    {
      "cell_type": "markdown",
      "metadata": {
        "id": "xG5bDDfgntRO"
      },
      "source": [
        "We need to modify our dataframes add some fields and create a common to df to represent English and Mandarin together"
      ]
    },
    {
      "cell_type": "markdown",
      "metadata": {
        "id": "2rsQOTrwdSMW"
      },
      "source": [
        "### Engilish\r\n"
      ]
    },
    {
      "cell_type": "code",
      "metadata": {
        "colab": {
          "base_uri": "https://localhost:8080/",
          "height": 204
        },
        "id": "Q-dNJD2AazI5",
        "outputId": "f18e18f2-6d37-4b25-e98f-3b2149308d1e"
      },
      "source": [
        "## add extra columns \r\n",
        "dataE_EM_tp_s= datE_Renamed.copy()\r\n",
        "\r\n",
        "dataE_EM_tp_s[\"lang\"] = -0.5\r\n",
        "\r\n",
        "english=\"E\"\r\n",
        "dataE_EM_tp_s[\"subject\"] = english + datE_Renamed[\"subject\"]\r\n",
        "\r\n",
        "\r\n",
        "dataE_EM_tp_s.head()"
      ],
      "execution_count": 29,
      "outputs": [
        {
          "output_type": "execute_result",
          "data": {
            "text/html": [
              "<div>\n",
              "<style scoped>\n",
              "    .dataframe tbody tr th:only-of-type {\n",
              "        vertical-align: middle;\n",
              "    }\n",
              "\n",
              "    .dataframe tbody tr th {\n",
              "        vertical-align: top;\n",
              "    }\n",
              "\n",
              "    .dataframe thead th {\n",
              "        text-align: right;\n",
              "    }\n",
              "</style>\n",
              "<table border=\"1\" class=\"dataframe\">\n",
              "  <thead>\n",
              "    <tr style=\"text-align: right;\">\n",
              "      <th></th>\n",
              "      <th>genSubN</th>\n",
              "      <th>worldBetN</th>\n",
              "      <th>subject</th>\n",
              "      <th>genderfact</th>\n",
              "      <th>gender</th>\n",
              "      <th>VOT</th>\n",
              "      <th>vduration</th>\n",
              "      <th>voiceN</th>\n",
              "      <th>lang</th>\n",
              "    </tr>\n",
              "  </thead>\n",
              "  <tbody>\n",
              "    <tr>\n",
              "      <th>2</th>\n",
              "      <td>10</td>\n",
              "      <td>49</td>\n",
              "      <td>Ee9gt01mw</td>\n",
              "      <td>m</td>\n",
              "      <td>-0.5</td>\n",
              "      <td>49.860658</td>\n",
              "      <td>267.595631</td>\n",
              "      <td>-1</td>\n",
              "      <td>-0.5</td>\n",
              "    </tr>\n",
              "    <tr>\n",
              "      <th>3</th>\n",
              "      <td>10</td>\n",
              "      <td>41</td>\n",
              "      <td>Ee9gt01mw</td>\n",
              "      <td>m</td>\n",
              "      <td>-0.5</td>\n",
              "      <td>56.444342</td>\n",
              "      <td>302.313780</td>\n",
              "      <td>-1</td>\n",
              "      <td>-0.5</td>\n",
              "    </tr>\n",
              "    <tr>\n",
              "      <th>4</th>\n",
              "      <td>10</td>\n",
              "      <td>30</td>\n",
              "      <td>Ee9gt01mw</td>\n",
              "      <td>m</td>\n",
              "      <td>-0.5</td>\n",
              "      <td>59.868863</td>\n",
              "      <td>432.950305</td>\n",
              "      <td>-1</td>\n",
              "      <td>-0.5</td>\n",
              "    </tr>\n",
              "    <tr>\n",
              "      <th>5</th>\n",
              "      <td>10</td>\n",
              "      <td>39</td>\n",
              "      <td>Ee9gt01mw</td>\n",
              "      <td>m</td>\n",
              "      <td>-0.5</td>\n",
              "      <td>69.763520</td>\n",
              "      <td>156.066285</td>\n",
              "      <td>-1</td>\n",
              "      <td>-0.5</td>\n",
              "    </tr>\n",
              "    <tr>\n",
              "      <th>8</th>\n",
              "      <td>10</td>\n",
              "      <td>54</td>\n",
              "      <td>Ee9gt01mw</td>\n",
              "      <td>m</td>\n",
              "      <td>-0.5</td>\n",
              "      <td>88.775660</td>\n",
              "      <td>219.483993</td>\n",
              "      <td>-1</td>\n",
              "      <td>-0.5</td>\n",
              "    </tr>\n",
              "  </tbody>\n",
              "</table>\n",
              "</div>"
            ],
            "text/plain": [
              "   genSubN  worldBetN    subject  ...   vduration  voiceN  lang\n",
              "2       10         49  Ee9gt01mw  ...  267.595631      -1  -0.5\n",
              "3       10         41  Ee9gt01mw  ...  302.313780      -1  -0.5\n",
              "4       10         30  Ee9gt01mw  ...  432.950305      -1  -0.5\n",
              "5       10         39  Ee9gt01mw  ...  156.066285      -1  -0.5\n",
              "8       10         54  Ee9gt01mw  ...  219.483993      -1  -0.5\n",
              "\n",
              "[5 rows x 9 columns]"
            ]
          },
          "metadata": {
            "tags": []
          },
          "execution_count": 29
        }
      ]
    },
    {
      "cell_type": "markdown",
      "metadata": {
        "id": "fm81yY9Udso6"
      },
      "source": [
        "### Mandarin"
      ]
    },
    {
      "cell_type": "code",
      "metadata": {
        "colab": {
          "base_uri": "https://localhost:8080/",
          "height": 204
        },
        "id": "rY03nsTFdunJ",
        "outputId": "b02e71d1-ff5e-481d-efe7-51ff0f26d78d"
      },
      "source": [
        "## add extra columns \r\n",
        "dataM_EM_tp_s= datM_Renamed.copy()\r\n",
        "\r\n",
        "dataM_EM_tp_s[\"lang\"] = -0.5\r\n",
        "\r\n",
        "mandarin=\"M\"\r\n",
        "dataM_EM_tp_s[\"subject\"] = mandarin + datM_Renamed[\"subject\"]\r\n",
        "\r\n",
        "\r\n",
        "dataM_EM_tp_s.head()"
      ],
      "execution_count": 28,
      "outputs": [
        {
          "output_type": "execute_result",
          "data": {
            "text/html": [
              "<div>\n",
              "<style scoped>\n",
              "    .dataframe tbody tr th:only-of-type {\n",
              "        vertical-align: middle;\n",
              "    }\n",
              "\n",
              "    .dataframe tbody tr th {\n",
              "        vertical-align: top;\n",
              "    }\n",
              "\n",
              "    .dataframe thead th {\n",
              "        text-align: right;\n",
              "    }\n",
              "</style>\n",
              "<table border=\"1\" class=\"dataframe\">\n",
              "  <thead>\n",
              "    <tr style=\"text-align: right;\">\n",
              "      <th></th>\n",
              "      <th>genSubN</th>\n",
              "      <th>worldBetN</th>\n",
              "      <th>subject</th>\n",
              "      <th>genderfact</th>\n",
              "      <th>gender</th>\n",
              "      <th>VOT</th>\n",
              "      <th>vduration</th>\n",
              "      <th>voiceN</th>\n",
              "      <th>lang</th>\n",
              "    </tr>\n",
              "  </thead>\n",
              "  <tbody>\n",
              "    <tr>\n",
              "      <th>0</th>\n",
              "      <td>0</td>\n",
              "      <td>14</td>\n",
              "      <td>Ms9gt01fw</td>\n",
              "      <td>f</td>\n",
              "      <td>0.5</td>\n",
              "      <td>24.138644</td>\n",
              "      <td>173.848081</td>\n",
              "      <td>-1</td>\n",
              "      <td>-0.5</td>\n",
              "    </tr>\n",
              "    <tr>\n",
              "      <th>3</th>\n",
              "      <td>0</td>\n",
              "      <td>19</td>\n",
              "      <td>Ms9gt01fw</td>\n",
              "      <td>f</td>\n",
              "      <td>0.5</td>\n",
              "      <td>61.244091</td>\n",
              "      <td>255.367214</td>\n",
              "      <td>-1</td>\n",
              "      <td>-0.5</td>\n",
              "    </tr>\n",
              "    <tr>\n",
              "      <th>4</th>\n",
              "      <td>0</td>\n",
              "      <td>12</td>\n",
              "      <td>Ms9gt01fw</td>\n",
              "      <td>f</td>\n",
              "      <td>0.5</td>\n",
              "      <td>63.784175</td>\n",
              "      <td>266.556838</td>\n",
              "      <td>-1</td>\n",
              "      <td>-0.5</td>\n",
              "    </tr>\n",
              "    <tr>\n",
              "      <th>6</th>\n",
              "      <td>0</td>\n",
              "      <td>11</td>\n",
              "      <td>Ms9gt01fw</td>\n",
              "      <td>f</td>\n",
              "      <td>0.5</td>\n",
              "      <td>94.100283</td>\n",
              "      <td>195.263651</td>\n",
              "      <td>-1</td>\n",
              "      <td>-0.5</td>\n",
              "    </tr>\n",
              "    <tr>\n",
              "      <th>8</th>\n",
              "      <td>0</td>\n",
              "      <td>17</td>\n",
              "      <td>Ms9gt01fw</td>\n",
              "      <td>f</td>\n",
              "      <td>0.5</td>\n",
              "      <td>101.468401</td>\n",
              "      <td>212.920039</td>\n",
              "      <td>-1</td>\n",
              "      <td>-0.5</td>\n",
              "    </tr>\n",
              "  </tbody>\n",
              "</table>\n",
              "</div>"
            ],
            "text/plain": [
              "   genSubN  worldBetN    subject  ...   vduration  voiceN  lang\n",
              "0        0         14  Ms9gt01fw  ...  173.848081      -1  -0.5\n",
              "3        0         19  Ms9gt01fw  ...  255.367214      -1  -0.5\n",
              "4        0         12  Ms9gt01fw  ...  266.556838      -1  -0.5\n",
              "6        0         11  Ms9gt01fw  ...  195.263651      -1  -0.5\n",
              "8        0         17  Ms9gt01fw  ...  212.920039      -1  -0.5\n",
              "\n",
              "[5 rows x 9 columns]"
            ]
          },
          "metadata": {
            "tags": []
          },
          "execution_count": 28
        }
      ]
    },
    {
      "cell_type": "markdown",
      "metadata": {
        "id": "TkL__qQneCAW"
      },
      "source": [
        "### Concat dataframes"
      ]
    },
    {
      "cell_type": "code",
      "metadata": {
        "colab": {
          "base_uri": "https://localhost:8080/",
          "height": 204
        },
        "id": "RrRrWDbheEv6",
        "outputId": "249c1380-a138-4619-85cc-3e0bb0d003aa"
      },
      "source": [
        "dataEM_s = pd.concat([dataE_EM_tp_s, dataM_EM_tp_s])\r\n",
        "dataEM_s = dataEM_s.fillna(0)\r\n",
        "dataEM_s.head()"
      ],
      "execution_count": 37,
      "outputs": [
        {
          "output_type": "execute_result",
          "data": {
            "text/html": [
              "<div>\n",
              "<style scoped>\n",
              "    .dataframe tbody tr th:only-of-type {\n",
              "        vertical-align: middle;\n",
              "    }\n",
              "\n",
              "    .dataframe tbody tr th {\n",
              "        vertical-align: top;\n",
              "    }\n",
              "\n",
              "    .dataframe thead th {\n",
              "        text-align: right;\n",
              "    }\n",
              "</style>\n",
              "<table border=\"1\" class=\"dataframe\">\n",
              "  <thead>\n",
              "    <tr style=\"text-align: right;\">\n",
              "      <th></th>\n",
              "      <th>genSubN</th>\n",
              "      <th>worldBetN</th>\n",
              "      <th>subject</th>\n",
              "      <th>genderfact</th>\n",
              "      <th>gender</th>\n",
              "      <th>VOT</th>\n",
              "      <th>vduration</th>\n",
              "      <th>voiceN</th>\n",
              "      <th>lang</th>\n",
              "    </tr>\n",
              "  </thead>\n",
              "  <tbody>\n",
              "    <tr>\n",
              "      <th>2</th>\n",
              "      <td>10</td>\n",
              "      <td>49</td>\n",
              "      <td>Ee9gt01mw</td>\n",
              "      <td>m</td>\n",
              "      <td>-0.5</td>\n",
              "      <td>49.860658</td>\n",
              "      <td>267.595631</td>\n",
              "      <td>-1</td>\n",
              "      <td>-0.5</td>\n",
              "    </tr>\n",
              "    <tr>\n",
              "      <th>3</th>\n",
              "      <td>10</td>\n",
              "      <td>41</td>\n",
              "      <td>Ee9gt01mw</td>\n",
              "      <td>m</td>\n",
              "      <td>-0.5</td>\n",
              "      <td>56.444342</td>\n",
              "      <td>302.313780</td>\n",
              "      <td>-1</td>\n",
              "      <td>-0.5</td>\n",
              "    </tr>\n",
              "    <tr>\n",
              "      <th>4</th>\n",
              "      <td>10</td>\n",
              "      <td>30</td>\n",
              "      <td>Ee9gt01mw</td>\n",
              "      <td>m</td>\n",
              "      <td>-0.5</td>\n",
              "      <td>59.868863</td>\n",
              "      <td>432.950305</td>\n",
              "      <td>-1</td>\n",
              "      <td>-0.5</td>\n",
              "    </tr>\n",
              "    <tr>\n",
              "      <th>5</th>\n",
              "      <td>10</td>\n",
              "      <td>39</td>\n",
              "      <td>Ee9gt01mw</td>\n",
              "      <td>m</td>\n",
              "      <td>-0.5</td>\n",
              "      <td>69.763520</td>\n",
              "      <td>156.066285</td>\n",
              "      <td>-1</td>\n",
              "      <td>-0.5</td>\n",
              "    </tr>\n",
              "    <tr>\n",
              "      <th>8</th>\n",
              "      <td>10</td>\n",
              "      <td>54</td>\n",
              "      <td>Ee9gt01mw</td>\n",
              "      <td>m</td>\n",
              "      <td>-0.5</td>\n",
              "      <td>88.775660</td>\n",
              "      <td>219.483993</td>\n",
              "      <td>-1</td>\n",
              "      <td>-0.5</td>\n",
              "    </tr>\n",
              "  </tbody>\n",
              "</table>\n",
              "</div>"
            ],
            "text/plain": [
              "   genSubN  worldBetN    subject  ...   vduration  voiceN  lang\n",
              "2       10         49  Ee9gt01mw  ...  267.595631      -1  -0.5\n",
              "3       10         41  Ee9gt01mw  ...  302.313780      -1  -0.5\n",
              "4       10         30  Ee9gt01mw  ...  432.950305      -1  -0.5\n",
              "5       10         39  Ee9gt01mw  ...  156.066285      -1  -0.5\n",
              "8       10         54  Ee9gt01mw  ...  219.483993      -1  -0.5\n",
              "\n",
              "[5 rows x 9 columns]"
            ]
          },
          "metadata": {
            "tags": []
          },
          "execution_count": 37
        }
      ]
    },
    {
      "cell_type": "markdown",
      "metadata": {
        "id": "kv49UZbkemqC"
      },
      "source": [
        "## Preprocess for voices"
      ]
    },
    {
      "cell_type": "markdown",
      "metadata": {
        "id": "1lnFC9tAhavs"
      },
      "source": [
        "### English"
      ]
    },
    {
      "cell_type": "code",
      "metadata": {
        "colab": {
          "base_uri": "https://localhost:8080/",
          "height": 204
        },
        "id": "qDsFixPGepFV",
        "outputId": "6cf367da-e4b0-4c16-82cb-912e314b503c"
      },
      "source": [
        "dataE_EM_tp_v= datE_Renamed.copy()\r\n",
        "\r\n",
        "dataE_EM_tp_v[\"lang\"] = -0.5\r\n",
        "\r\n",
        "english=\"E\"\r\n",
        "dataE_EM_tp_v[\"subject\"] = english + dataE_EM_tp[\"subject\"]\r\n",
        "\r\n",
        "\r\n",
        "dataE_EM_tp_v.head()"
      ],
      "execution_count": 43,
      "outputs": [
        {
          "output_type": "execute_result",
          "data": {
            "text/html": [
              "<div>\n",
              "<style scoped>\n",
              "    .dataframe tbody tr th:only-of-type {\n",
              "        vertical-align: middle;\n",
              "    }\n",
              "\n",
              "    .dataframe tbody tr th {\n",
              "        vertical-align: top;\n",
              "    }\n",
              "\n",
              "    .dataframe thead th {\n",
              "        text-align: right;\n",
              "    }\n",
              "</style>\n",
              "<table border=\"1\" class=\"dataframe\">\n",
              "  <thead>\n",
              "    <tr style=\"text-align: right;\">\n",
              "      <th></th>\n",
              "      <th>genSubN</th>\n",
              "      <th>worldBetN</th>\n",
              "      <th>subject</th>\n",
              "      <th>genderfact</th>\n",
              "      <th>gender</th>\n",
              "      <th>VOT</th>\n",
              "      <th>vduration</th>\n",
              "      <th>voiceN</th>\n",
              "      <th>lang</th>\n",
              "    </tr>\n",
              "  </thead>\n",
              "  <tbody>\n",
              "    <tr>\n",
              "      <th>2</th>\n",
              "      <td>10</td>\n",
              "      <td>49</td>\n",
              "      <td>Ee9gt03fw</td>\n",
              "      <td>m</td>\n",
              "      <td>-0.5</td>\n",
              "      <td>49.860658</td>\n",
              "      <td>267.595631</td>\n",
              "      <td>-1</td>\n",
              "      <td>-0.5</td>\n",
              "    </tr>\n",
              "    <tr>\n",
              "      <th>3</th>\n",
              "      <td>10</td>\n",
              "      <td>41</td>\n",
              "      <td>Ee9gt04mw</td>\n",
              "      <td>m</td>\n",
              "      <td>-0.5</td>\n",
              "      <td>56.444342</td>\n",
              "      <td>302.313780</td>\n",
              "      <td>-1</td>\n",
              "      <td>-0.5</td>\n",
              "    </tr>\n",
              "    <tr>\n",
              "      <th>4</th>\n",
              "      <td>10</td>\n",
              "      <td>30</td>\n",
              "      <td>Ee9gt05fw</td>\n",
              "      <td>m</td>\n",
              "      <td>-0.5</td>\n",
              "      <td>59.868863</td>\n",
              "      <td>432.950305</td>\n",
              "      <td>-1</td>\n",
              "      <td>-0.5</td>\n",
              "    </tr>\n",
              "    <tr>\n",
              "      <th>5</th>\n",
              "      <td>10</td>\n",
              "      <td>39</td>\n",
              "      <td>Ee9gt06mw</td>\n",
              "      <td>m</td>\n",
              "      <td>-0.5</td>\n",
              "      <td>69.763520</td>\n",
              "      <td>156.066285</td>\n",
              "      <td>-1</td>\n",
              "      <td>-0.5</td>\n",
              "    </tr>\n",
              "    <tr>\n",
              "      <th>8</th>\n",
              "      <td>10</td>\n",
              "      <td>54</td>\n",
              "      <td>Ee9gt09fw</td>\n",
              "      <td>m</td>\n",
              "      <td>-0.5</td>\n",
              "      <td>88.775660</td>\n",
              "      <td>219.483993</td>\n",
              "      <td>-1</td>\n",
              "      <td>-0.5</td>\n",
              "    </tr>\n",
              "  </tbody>\n",
              "</table>\n",
              "</div>"
            ],
            "text/plain": [
              "   genSubN  worldBetN    subject  ...   vduration  voiceN  lang\n",
              "2       10         49  Ee9gt03fw  ...  267.595631      -1  -0.5\n",
              "3       10         41  Ee9gt04mw  ...  302.313780      -1  -0.5\n",
              "4       10         30  Ee9gt05fw  ...  432.950305      -1  -0.5\n",
              "5       10         39  Ee9gt06mw  ...  156.066285      -1  -0.5\n",
              "8       10         54  Ee9gt09fw  ...  219.483993      -1  -0.5\n",
              "\n",
              "[5 rows x 9 columns]"
            ]
          },
          "metadata": {
            "tags": []
          },
          "execution_count": 43
        }
      ]
    },
    {
      "cell_type": "markdown",
      "metadata": {
        "id": "ZbMBzIIDgah9"
      },
      "source": [
        "### Mandarin"
      ]
    },
    {
      "cell_type": "code",
      "metadata": {
        "colab": {
          "base_uri": "https://localhost:8080/",
          "height": 204
        },
        "id": "DLvD5kY2gD9N",
        "outputId": "db0e73a7-17bc-4bdf-a85b-e78272754c34"
      },
      "source": [
        "dataM_EM_tp_v= datM_Renamed.copy()\r\n",
        "\r\n",
        "dataM_EM_tp_v[\"lang\"] = -0.5\r\n",
        "\r\n",
        "mandarin=\"M\"\r\n",
        "dataM_EM_tp_v[\"subject\"] = mandarin + datM_Renamed[\"subject\"]\r\n",
        "\r\n",
        "\r\n",
        "dataM_EM_tp_v.head()"
      ],
      "execution_count": 44,
      "outputs": [
        {
          "output_type": "execute_result",
          "data": {
            "text/html": [
              "<div>\n",
              "<style scoped>\n",
              "    .dataframe tbody tr th:only-of-type {\n",
              "        vertical-align: middle;\n",
              "    }\n",
              "\n",
              "    .dataframe tbody tr th {\n",
              "        vertical-align: top;\n",
              "    }\n",
              "\n",
              "    .dataframe thead th {\n",
              "        text-align: right;\n",
              "    }\n",
              "</style>\n",
              "<table border=\"1\" class=\"dataframe\">\n",
              "  <thead>\n",
              "    <tr style=\"text-align: right;\">\n",
              "      <th></th>\n",
              "      <th>genSubN</th>\n",
              "      <th>worldBetN</th>\n",
              "      <th>subject</th>\n",
              "      <th>genderfact</th>\n",
              "      <th>gender</th>\n",
              "      <th>VOT</th>\n",
              "      <th>vduration</th>\n",
              "      <th>voiceN</th>\n",
              "      <th>lang</th>\n",
              "    </tr>\n",
              "  </thead>\n",
              "  <tbody>\n",
              "    <tr>\n",
              "      <th>0</th>\n",
              "      <td>0</td>\n",
              "      <td>14</td>\n",
              "      <td>Ms9gt01fw</td>\n",
              "      <td>f</td>\n",
              "      <td>0.5</td>\n",
              "      <td>24.138644</td>\n",
              "      <td>173.848081</td>\n",
              "      <td>-1</td>\n",
              "      <td>-0.5</td>\n",
              "    </tr>\n",
              "    <tr>\n",
              "      <th>3</th>\n",
              "      <td>0</td>\n",
              "      <td>19</td>\n",
              "      <td>Ms9gt01fw</td>\n",
              "      <td>f</td>\n",
              "      <td>0.5</td>\n",
              "      <td>61.244091</td>\n",
              "      <td>255.367214</td>\n",
              "      <td>-1</td>\n",
              "      <td>-0.5</td>\n",
              "    </tr>\n",
              "    <tr>\n",
              "      <th>4</th>\n",
              "      <td>0</td>\n",
              "      <td>12</td>\n",
              "      <td>Ms9gt01fw</td>\n",
              "      <td>f</td>\n",
              "      <td>0.5</td>\n",
              "      <td>63.784175</td>\n",
              "      <td>266.556838</td>\n",
              "      <td>-1</td>\n",
              "      <td>-0.5</td>\n",
              "    </tr>\n",
              "    <tr>\n",
              "      <th>6</th>\n",
              "      <td>0</td>\n",
              "      <td>11</td>\n",
              "      <td>Ms9gt01fw</td>\n",
              "      <td>f</td>\n",
              "      <td>0.5</td>\n",
              "      <td>94.100283</td>\n",
              "      <td>195.263651</td>\n",
              "      <td>-1</td>\n",
              "      <td>-0.5</td>\n",
              "    </tr>\n",
              "    <tr>\n",
              "      <th>8</th>\n",
              "      <td>0</td>\n",
              "      <td>17</td>\n",
              "      <td>Ms9gt01fw</td>\n",
              "      <td>f</td>\n",
              "      <td>0.5</td>\n",
              "      <td>101.468401</td>\n",
              "      <td>212.920039</td>\n",
              "      <td>-1</td>\n",
              "      <td>-0.5</td>\n",
              "    </tr>\n",
              "  </tbody>\n",
              "</table>\n",
              "</div>"
            ],
            "text/plain": [
              "   genSubN  worldBetN    subject  ...   vduration  voiceN  lang\n",
              "0        0         14  Ms9gt01fw  ...  173.848081      -1  -0.5\n",
              "3        0         19  Ms9gt01fw  ...  255.367214      -1  -0.5\n",
              "4        0         12  Ms9gt01fw  ...  266.556838      -1  -0.5\n",
              "6        0         11  Ms9gt01fw  ...  195.263651      -1  -0.5\n",
              "8        0         17  Ms9gt01fw  ...  212.920039      -1  -0.5\n",
              "\n",
              "[5 rows x 9 columns]"
            ]
          },
          "metadata": {
            "tags": []
          },
          "execution_count": 44
        }
      ]
    },
    {
      "cell_type": "markdown",
      "metadata": {
        "id": "W_Ko-skzhdiG"
      },
      "source": [
        "### Concat dataframes"
      ]
    },
    {
      "cell_type": "code",
      "metadata": {
        "colab": {
          "base_uri": "https://localhost:8080/",
          "height": 204
        },
        "id": "2tePJEqEhfoq",
        "outputId": "c7a42504-ca10-4107-92ae-2e1ae405567c"
      },
      "source": [
        "dataEM_v = pd.concat([dataE_EM_tp_v, dataM_EM_tp_v])\r\n",
        "\r\n",
        "dataEM_v = dataEM_v.fillna(0)\r\n",
        "\r\n",
        "dataEM_v.head()"
      ],
      "execution_count": 45,
      "outputs": [
        {
          "output_type": "execute_result",
          "data": {
            "text/html": [
              "<div>\n",
              "<style scoped>\n",
              "    .dataframe tbody tr th:only-of-type {\n",
              "        vertical-align: middle;\n",
              "    }\n",
              "\n",
              "    .dataframe tbody tr th {\n",
              "        vertical-align: top;\n",
              "    }\n",
              "\n",
              "    .dataframe thead th {\n",
              "        text-align: right;\n",
              "    }\n",
              "</style>\n",
              "<table border=\"1\" class=\"dataframe\">\n",
              "  <thead>\n",
              "    <tr style=\"text-align: right;\">\n",
              "      <th></th>\n",
              "      <th>genSubN</th>\n",
              "      <th>worldBetN</th>\n",
              "      <th>subject</th>\n",
              "      <th>genderfact</th>\n",
              "      <th>gender</th>\n",
              "      <th>VOT</th>\n",
              "      <th>vduration</th>\n",
              "      <th>voiceN</th>\n",
              "      <th>lang</th>\n",
              "    </tr>\n",
              "  </thead>\n",
              "  <tbody>\n",
              "    <tr>\n",
              "      <th>2</th>\n",
              "      <td>10</td>\n",
              "      <td>49</td>\n",
              "      <td>Ee9gt03fw</td>\n",
              "      <td>m</td>\n",
              "      <td>-0.5</td>\n",
              "      <td>49.860658</td>\n",
              "      <td>267.595631</td>\n",
              "      <td>-1</td>\n",
              "      <td>-0.5</td>\n",
              "    </tr>\n",
              "    <tr>\n",
              "      <th>3</th>\n",
              "      <td>10</td>\n",
              "      <td>41</td>\n",
              "      <td>Ee9gt04mw</td>\n",
              "      <td>m</td>\n",
              "      <td>-0.5</td>\n",
              "      <td>56.444342</td>\n",
              "      <td>302.313780</td>\n",
              "      <td>-1</td>\n",
              "      <td>-0.5</td>\n",
              "    </tr>\n",
              "    <tr>\n",
              "      <th>4</th>\n",
              "      <td>10</td>\n",
              "      <td>30</td>\n",
              "      <td>Ee9gt05fw</td>\n",
              "      <td>m</td>\n",
              "      <td>-0.5</td>\n",
              "      <td>59.868863</td>\n",
              "      <td>432.950305</td>\n",
              "      <td>-1</td>\n",
              "      <td>-0.5</td>\n",
              "    </tr>\n",
              "    <tr>\n",
              "      <th>5</th>\n",
              "      <td>10</td>\n",
              "      <td>39</td>\n",
              "      <td>Ee9gt06mw</td>\n",
              "      <td>m</td>\n",
              "      <td>-0.5</td>\n",
              "      <td>69.763520</td>\n",
              "      <td>156.066285</td>\n",
              "      <td>-1</td>\n",
              "      <td>-0.5</td>\n",
              "    </tr>\n",
              "    <tr>\n",
              "      <th>8</th>\n",
              "      <td>10</td>\n",
              "      <td>54</td>\n",
              "      <td>Ee9gt09fw</td>\n",
              "      <td>m</td>\n",
              "      <td>-0.5</td>\n",
              "      <td>88.775660</td>\n",
              "      <td>219.483993</td>\n",
              "      <td>-1</td>\n",
              "      <td>-0.5</td>\n",
              "    </tr>\n",
              "  </tbody>\n",
              "</table>\n",
              "</div>"
            ],
            "text/plain": [
              "   genSubN  worldBetN    subject  ...   vduration  voiceN  lang\n",
              "2       10         49  Ee9gt03fw  ...  267.595631      -1  -0.5\n",
              "3       10         41  Ee9gt04mw  ...  302.313780      -1  -0.5\n",
              "4       10         30  Ee9gt05fw  ...  432.950305      -1  -0.5\n",
              "5       10         39  Ee9gt06mw  ...  156.066285      -1  -0.5\n",
              "8       10         54  Ee9gt09fw  ...  219.483993      -1  -0.5\n",
              "\n",
              "[5 rows x 9 columns]"
            ]
          },
          "metadata": {
            "tags": []
          },
          "execution_count": 45
        }
      ]
    },
    {
      "cell_type": "markdown",
      "metadata": {
        "id": "ZnGFqVAkgmfi"
      },
      "source": [
        "## Model For Stop"
      ]
    },
    {
      "cell_type": "code",
      "metadata": {
        "id": "SwLyNrtzgp1j"
      },
      "source": [
        "lang_vot_model_dimensions={\r\n",
        "    \"VOT\": [\"developer\"],\r\n",
        "    \"lang\": [\"developer\"],\r\n",
        "    \"gender\": [\"developer\"]\r\n",
        "}\r\n",
        "\r\n",
        "vdur_lang_vot_model_dimensions={\r\n",
        "    \"VOT\": [\"developer\"],\r\n",
        "    \"cmeanvdur\": [\"developer\"],\r\n",
        "    \"lang\": [\"developer\"]\r\n",
        "}"
      ],
      "execution_count": 31,
      "outputs": []
    },
    {
      "cell_type": "code",
      "metadata": {
        "colab": {
          "base_uri": "https://localhost:8080/",
          "height": 419
        },
        "id": "oOvy7hykiRAR",
        "outputId": "7ebebdd1-ea73-48c8-c70f-f2ee894604f3"
      },
      "source": [
        "dataEM_s"
      ],
      "execution_count": 32,
      "outputs": [
        {
          "output_type": "execute_result",
          "data": {
            "text/html": [
              "<div>\n",
              "<style scoped>\n",
              "    .dataframe tbody tr th:only-of-type {\n",
              "        vertical-align: middle;\n",
              "    }\n",
              "\n",
              "    .dataframe tbody tr th {\n",
              "        vertical-align: top;\n",
              "    }\n",
              "\n",
              "    .dataframe thead th {\n",
              "        text-align: right;\n",
              "    }\n",
              "</style>\n",
              "<table border=\"1\" class=\"dataframe\">\n",
              "  <thead>\n",
              "    <tr style=\"text-align: right;\">\n",
              "      <th></th>\n",
              "      <th>genSubN</th>\n",
              "      <th>worldBetN</th>\n",
              "      <th>subject</th>\n",
              "      <th>genderfact</th>\n",
              "      <th>gender</th>\n",
              "      <th>VOT</th>\n",
              "      <th>vduration</th>\n",
              "      <th>voiceN</th>\n",
              "      <th>lang</th>\n",
              "    </tr>\n",
              "  </thead>\n",
              "  <tbody>\n",
              "    <tr>\n",
              "      <th>2</th>\n",
              "      <td>10</td>\n",
              "      <td>49</td>\n",
              "      <td>Ee9gt01mw</td>\n",
              "      <td>m</td>\n",
              "      <td>-0.5</td>\n",
              "      <td>49.860658</td>\n",
              "      <td>267.595631</td>\n",
              "      <td>-1</td>\n",
              "      <td>-0.5</td>\n",
              "    </tr>\n",
              "    <tr>\n",
              "      <th>3</th>\n",
              "      <td>10</td>\n",
              "      <td>41</td>\n",
              "      <td>Ee9gt01mw</td>\n",
              "      <td>m</td>\n",
              "      <td>-0.5</td>\n",
              "      <td>56.444342</td>\n",
              "      <td>302.313780</td>\n",
              "      <td>-1</td>\n",
              "      <td>-0.5</td>\n",
              "    </tr>\n",
              "    <tr>\n",
              "      <th>4</th>\n",
              "      <td>10</td>\n",
              "      <td>30</td>\n",
              "      <td>Ee9gt01mw</td>\n",
              "      <td>m</td>\n",
              "      <td>-0.5</td>\n",
              "      <td>59.868863</td>\n",
              "      <td>432.950305</td>\n",
              "      <td>-1</td>\n",
              "      <td>-0.5</td>\n",
              "    </tr>\n",
              "    <tr>\n",
              "      <th>5</th>\n",
              "      <td>10</td>\n",
              "      <td>39</td>\n",
              "      <td>Ee9gt01mw</td>\n",
              "      <td>m</td>\n",
              "      <td>-0.5</td>\n",
              "      <td>69.763520</td>\n",
              "      <td>156.066285</td>\n",
              "      <td>-1</td>\n",
              "      <td>-0.5</td>\n",
              "    </tr>\n",
              "    <tr>\n",
              "      <th>8</th>\n",
              "      <td>10</td>\n",
              "      <td>54</td>\n",
              "      <td>Ee9gt01mw</td>\n",
              "      <td>m</td>\n",
              "      <td>-0.5</td>\n",
              "      <td>88.775660</td>\n",
              "      <td>219.483993</td>\n",
              "      <td>-1</td>\n",
              "      <td>-0.5</td>\n",
              "    </tr>\n",
              "    <tr>\n",
              "      <th>...</th>\n",
              "      <td>...</td>\n",
              "      <td>...</td>\n",
              "      <td>...</td>\n",
              "      <td>...</td>\n",
              "      <td>...</td>\n",
              "      <td>...</td>\n",
              "      <td>...</td>\n",
              "      <td>...</td>\n",
              "      <td>...</td>\n",
              "    </tr>\n",
              "    <tr>\n",
              "      <th>390</th>\n",
              "      <td>19</td>\n",
              "      <td>14</td>\n",
              "      <td>Ms9gt20mw</td>\n",
              "      <td>m</td>\n",
              "      <td>-0.5</td>\n",
              "      <td>14.117671</td>\n",
              "      <td>164.732597</td>\n",
              "      <td>-1</td>\n",
              "      <td>-0.5</td>\n",
              "    </tr>\n",
              "    <tr>\n",
              "      <th>394</th>\n",
              "      <td>19</td>\n",
              "      <td>12</td>\n",
              "      <td>Ms9gt20mw</td>\n",
              "      <td>m</td>\n",
              "      <td>-0.5</td>\n",
              "      <td>60.333644</td>\n",
              "      <td>294.027431</td>\n",
              "      <td>-1</td>\n",
              "      <td>-0.5</td>\n",
              "    </tr>\n",
              "    <tr>\n",
              "      <th>395</th>\n",
              "      <td>19</td>\n",
              "      <td>16</td>\n",
              "      <td>Ms9gt20mw</td>\n",
              "      <td>m</td>\n",
              "      <td>-0.5</td>\n",
              "      <td>76.351775</td>\n",
              "      <td>274.520330</td>\n",
              "      <td>-1</td>\n",
              "      <td>-0.5</td>\n",
              "    </tr>\n",
              "    <tr>\n",
              "      <th>396</th>\n",
              "      <td>19</td>\n",
              "      <td>19</td>\n",
              "      <td>Ms9gt20mw</td>\n",
              "      <td>m</td>\n",
              "      <td>-0.5</td>\n",
              "      <td>85.876305</td>\n",
              "      <td>256.281047</td>\n",
              "      <td>-1</td>\n",
              "      <td>-0.5</td>\n",
              "    </tr>\n",
              "    <tr>\n",
              "      <th>398</th>\n",
              "      <td>19</td>\n",
              "      <td>10</td>\n",
              "      <td>Ms9gt20mw</td>\n",
              "      <td>m</td>\n",
              "      <td>-0.5</td>\n",
              "      <td>101.903297</td>\n",
              "      <td>214.498386</td>\n",
              "      <td>-1</td>\n",
              "      <td>-0.5</td>\n",
              "    </tr>\n",
              "  </tbody>\n",
              "</table>\n",
              "<p>1036 rows × 9 columns</p>\n",
              "</div>"
            ],
            "text/plain": [
              "     genSubN  worldBetN    subject  ...   vduration  voiceN  lang\n",
              "2         10         49  Ee9gt01mw  ...  267.595631      -1  -0.5\n",
              "3         10         41  Ee9gt01mw  ...  302.313780      -1  -0.5\n",
              "4         10         30  Ee9gt01mw  ...  432.950305      -1  -0.5\n",
              "5         10         39  Ee9gt01mw  ...  156.066285      -1  -0.5\n",
              "8         10         54  Ee9gt01mw  ...  219.483993      -1  -0.5\n",
              "..       ...        ...        ...  ...         ...     ...   ...\n",
              "390       19         14  Ms9gt20mw  ...  164.732597      -1  -0.5\n",
              "394       19         12  Ms9gt20mw  ...  294.027431      -1  -0.5\n",
              "395       19         16  Ms9gt20mw  ...  274.520330      -1  -0.5\n",
              "396       19         19  Ms9gt20mw  ...  256.281047      -1  -0.5\n",
              "398       19         10  Ms9gt20mw  ...  214.498386      -1  -0.5\n",
              "\n",
              "[1036 rows x 9 columns]"
            ]
          },
          "metadata": {
            "tags": []
          },
          "execution_count": 32
        }
      ]
    },
    {
      "cell_type": "code",
      "metadata": {
        "colab": {
          "base_uri": "https://localhost:8080/"
        },
        "id": "69b7O0Xhgqfx",
        "outputId": "8659e4c0-d032-4bc0-93f7-202ce85ff09d"
      },
      "source": [
        "with pm.Model() as lang_vot_model:\r\n",
        "  a = pm.Normal(\"a\", 0, 200)\r\n",
        "  b = pm.Normal(\"b\", 0, 50)\r\n",
        "  bC = pm.Normal(\"bC\", 0, 50)\r\n",
        "  sigma = pm.Exponential(\"sigma\", 1)\r\n",
        "\r\n",
        "  vot_hat = pm.Deterministic(\"vot_hat\", a + b*dataEM_s[\"gender\"]*dataEM_s[\"lang\"] + bC*dataEM_s[\"lang\"])\r\n",
        "  vot = pm.Normal(\"vot\", mu=vot_hat, sigma=sigma, observed=dataEM_s[\"VOT\"])\r\n",
        "\r\n",
        "  trace_lang_vot_model = pm.sample(draws=2000, tune=1000, chains=4)\r\n",
        "  prior_lang_vot_model = pm.sample_prior_predictive()\r\n",
        "  posterior_lang_vot_model = pm.sample_posterior_predictive(trace_lang_vot_model)\r\n",
        "\r\n",
        "  az_lang_vot_model = az.from_pymc3(\r\n",
        "    trace=trace_lang_vot_model,\r\n",
        "    prior=prior_lang_vot_model,\r\n",
        "    posterior_predictive=posterior_lang_vot_model,\r\n",
        "    dims=lang_vot_model_dimensions\r\n",
        "  )"
      ],
      "execution_count": 38,
      "outputs": [
        {
          "output_type": "stream",
          "text": [
            "Auto-assigning NUTS sampler...\n",
            "Initializing NUTS using jitter+adapt_diag...\n",
            "Sequential sampling (4 chains in 1 job)\n",
            "NUTS: [sigma, bC, b, a]\n",
            "Sampling chain 0, 0 divergences: 100%|██████████| 3000/3000 [00:25<00:00, 119.93it/s]\n",
            "Sampling chain 1, 0 divergences: 100%|██████████| 3000/3000 [00:27<00:00, 109.01it/s]\n",
            "Sampling chain 2, 0 divergences: 100%|██████████| 3000/3000 [00:27<00:00, 110.30it/s]\n",
            "Sampling chain 3, 0 divergences: 100%|██████████| 3000/3000 [00:28<00:00, 105.33it/s]\n",
            "The acceptance probability does not match the target. It is 0.8853038706611099, but should be close to 0.8. Try to increase the number of tuning steps.\n",
            "The acceptance probability does not match the target. It is 0.8986599032595294, but should be close to 0.8. Try to increase the number of tuning steps.\n",
            "100%|██████████| 8000/8000 [00:10<00:00, 761.41it/s]\n"
          ],
          "name": "stderr"
        }
      ]
    },
    {
      "cell_type": "code",
      "metadata": {
        "colab": {
          "base_uri": "https://localhost:8080/",
          "height": 400
        },
        "id": "STVU1CvdnNc3",
        "outputId": "07aa4f61-594e-4285-9120-263b12f68805"
      },
      "source": [
        "df = pd.DataFrame()\r\n",
        "for x in prior_lang_vot_model.keys():\r\n",
        "  if x not in ['vot', 'vot_hat']:\r\n",
        "    df[x] = prior_lang_vot_model[x]\r\n",
        "\r\n",
        "df.hist()"
      ],
      "execution_count": 39,
      "outputs": [
        {
          "output_type": "execute_result",
          "data": {
            "text/plain": [
              "array([[<matplotlib.axes._subplots.AxesSubplot object at 0x7fa8c1ab8f98>,\n",
              "        <matplotlib.axes._subplots.AxesSubplot object at 0x7fa8bf701da0>],\n",
              "       [<matplotlib.axes._subplots.AxesSubplot object at 0x7fa8bf79f160>,\n",
              "        <matplotlib.axes._subplots.AxesSubplot object at 0x7fa8bf71cd30>],\n",
              "       [<matplotlib.axes._subplots.AxesSubplot object at 0x7fa8bf6a40f0>,\n",
              "        <matplotlib.axes._subplots.AxesSubplot object at 0x7fa8bf64f470>]],\n",
              "      dtype=object)"
            ]
          },
          "metadata": {
            "tags": []
          },
          "execution_count": 39
        },
        {
          "output_type": "display_data",
          "data": {
            "image/png": "[encoded data removed]",
            "text/plain": [
              "<Figure size 432x288 with 6 Axes>"
            ]
          },
          "metadata": {
            "tags": [],
            "needs_background": "light"
          }
        }
      ]
    },
    {
      "cell_type": "code",
      "metadata": {
        "colab": {
          "base_uri": "https://localhost:8080/",
          "height": 330
        },
        "id": "E3faZOE-nO4k",
        "outputId": "34969b19-fd06-4de6-d9c7-15ba6d084a64"
      },
      "source": [
        "az.plot_posterior(posterior_lang_vot_model)"
      ],
      "execution_count": 40,
      "outputs": [
        {
          "output_type": "execute_result",
          "data": {
            "text/plain": [
              "<matplotlib.axes._subplots.AxesSubplot at 0x7fa8bf855860>"
            ]
          },
          "metadata": {
            "tags": []
          },
          "execution_count": 40
        },
        {
          "output_type": "display_data",
          "data": {
            "image/png": "[encoded data removed]",
            "text/plain": [
              "<Figure size 432x288 with 1 Axes>"
            ]
          },
          "metadata": {
            "tags": [],
            "needs_background": "light"
          }
        }
      ]
    },
    {
      "cell_type": "code",
      "metadata": {
        "colab": {
          "base_uri": "https://localhost:8080/",
          "height": 330
        },
        "id": "zPjXjJAPnQFS",
        "outputId": "49dcafad-a175-4bc2-c859-ec30f98313d7"
      },
      "source": [
        "az.plot_ppc(az_lang_vot_model ,group='posterior')"
      ],
      "execution_count": 41,
      "outputs": [
        {
          "output_type": "execute_result",
          "data": {
            "text/plain": [
              "<matplotlib.axes._subplots.AxesSubplot at 0x7fa8bf8835c0>"
            ]
          },
          "metadata": {
            "tags": []
          },
          "execution_count": 41
        },
        {
          "output_type": "display_data",
          "data": {
            "image/png": "[encoded data removed]",
            "text/plain": [
              "<Figure size 432x288 with 1 Axes>"
            ]
          },
          "metadata": {
            "tags": [],
            "needs_background": "light"
          }
        }
      ]
    },
    {
      "cell_type": "markdown",
      "metadata": {
        "id": "ixlRzqqxqC26"
      },
      "source": [
        "**It fits pretty good with our distrubution.**"
      ]
    },
    {
      "cell_type": "markdown",
      "metadata": {
        "id": "0hBHOa6RnSmz"
      },
      "source": [
        "## Model for voices"
      ]
    },
    {
      "cell_type": "code",
      "metadata": {
        "colab": {
          "base_uri": "https://localhost:8080/",
          "height": 419
        },
        "id": "L7lkVHeuo8H6",
        "outputId": "c67b2cdc-09b7-4ff9-d911-d3e5ac1afaac"
      },
      "source": [
        "dataEM_v"
      ],
      "execution_count": 47,
      "outputs": [
        {
          "output_type": "execute_result",
          "data": {
            "text/html": [
              "<div>\n",
              "<style scoped>\n",
              "    .dataframe tbody tr th:only-of-type {\n",
              "        vertical-align: middle;\n",
              "    }\n",
              "\n",
              "    .dataframe tbody tr th {\n",
              "        vertical-align: top;\n",
              "    }\n",
              "\n",
              "    .dataframe thead th {\n",
              "        text-align: right;\n",
              "    }\n",
              "</style>\n",
              "<table border=\"1\" class=\"dataframe\">\n",
              "  <thead>\n",
              "    <tr style=\"text-align: right;\">\n",
              "      <th></th>\n",
              "      <th>genSubN</th>\n",
              "      <th>worldBetN</th>\n",
              "      <th>subject</th>\n",
              "      <th>genderfact</th>\n",
              "      <th>gender</th>\n",
              "      <th>VOT</th>\n",
              "      <th>vduration</th>\n",
              "      <th>voiceN</th>\n",
              "      <th>lang</th>\n",
              "    </tr>\n",
              "  </thead>\n",
              "  <tbody>\n",
              "    <tr>\n",
              "      <th>2</th>\n",
              "      <td>10</td>\n",
              "      <td>49</td>\n",
              "      <td>Ee9gt03fw</td>\n",
              "      <td>m</td>\n",
              "      <td>-0.5</td>\n",
              "      <td>49.860658</td>\n",
              "      <td>267.595631</td>\n",
              "      <td>-1</td>\n",
              "      <td>-0.5</td>\n",
              "    </tr>\n",
              "    <tr>\n",
              "      <th>3</th>\n",
              "      <td>10</td>\n",
              "      <td>41</td>\n",
              "      <td>Ee9gt04mw</td>\n",
              "      <td>m</td>\n",
              "      <td>-0.5</td>\n",
              "      <td>56.444342</td>\n",
              "      <td>302.313780</td>\n",
              "      <td>-1</td>\n",
              "      <td>-0.5</td>\n",
              "    </tr>\n",
              "    <tr>\n",
              "      <th>4</th>\n",
              "      <td>10</td>\n",
              "      <td>30</td>\n",
              "      <td>Ee9gt05fw</td>\n",
              "      <td>m</td>\n",
              "      <td>-0.5</td>\n",
              "      <td>59.868863</td>\n",
              "      <td>432.950305</td>\n",
              "      <td>-1</td>\n",
              "      <td>-0.5</td>\n",
              "    </tr>\n",
              "    <tr>\n",
              "      <th>5</th>\n",
              "      <td>10</td>\n",
              "      <td>39</td>\n",
              "      <td>Ee9gt06mw</td>\n",
              "      <td>m</td>\n",
              "      <td>-0.5</td>\n",
              "      <td>69.763520</td>\n",
              "      <td>156.066285</td>\n",
              "      <td>-1</td>\n",
              "      <td>-0.5</td>\n",
              "    </tr>\n",
              "    <tr>\n",
              "      <th>8</th>\n",
              "      <td>10</td>\n",
              "      <td>54</td>\n",
              "      <td>Ee9gt09fw</td>\n",
              "      <td>m</td>\n",
              "      <td>-0.5</td>\n",
              "      <td>88.775660</td>\n",
              "      <td>219.483993</td>\n",
              "      <td>-1</td>\n",
              "      <td>-0.5</td>\n",
              "    </tr>\n",
              "    <tr>\n",
              "      <th>...</th>\n",
              "      <td>...</td>\n",
              "      <td>...</td>\n",
              "      <td>...</td>\n",
              "      <td>...</td>\n",
              "      <td>...</td>\n",
              "      <td>...</td>\n",
              "      <td>...</td>\n",
              "      <td>...</td>\n",
              "      <td>...</td>\n",
              "    </tr>\n",
              "    <tr>\n",
              "      <th>390</th>\n",
              "      <td>19</td>\n",
              "      <td>14</td>\n",
              "      <td>Ms9gt20mw</td>\n",
              "      <td>m</td>\n",
              "      <td>-0.5</td>\n",
              "      <td>14.117671</td>\n",
              "      <td>164.732597</td>\n",
              "      <td>-1</td>\n",
              "      <td>-0.5</td>\n",
              "    </tr>\n",
              "    <tr>\n",
              "      <th>394</th>\n",
              "      <td>19</td>\n",
              "      <td>12</td>\n",
              "      <td>Ms9gt20mw</td>\n",
              "      <td>m</td>\n",
              "      <td>-0.5</td>\n",
              "      <td>60.333644</td>\n",
              "      <td>294.027431</td>\n",
              "      <td>-1</td>\n",
              "      <td>-0.5</td>\n",
              "    </tr>\n",
              "    <tr>\n",
              "      <th>395</th>\n",
              "      <td>19</td>\n",
              "      <td>16</td>\n",
              "      <td>Ms9gt20mw</td>\n",
              "      <td>m</td>\n",
              "      <td>-0.5</td>\n",
              "      <td>76.351775</td>\n",
              "      <td>274.520330</td>\n",
              "      <td>-1</td>\n",
              "      <td>-0.5</td>\n",
              "    </tr>\n",
              "    <tr>\n",
              "      <th>396</th>\n",
              "      <td>19</td>\n",
              "      <td>19</td>\n",
              "      <td>Ms9gt20mw</td>\n",
              "      <td>m</td>\n",
              "      <td>-0.5</td>\n",
              "      <td>85.876305</td>\n",
              "      <td>256.281047</td>\n",
              "      <td>-1</td>\n",
              "      <td>-0.5</td>\n",
              "    </tr>\n",
              "    <tr>\n",
              "      <th>398</th>\n",
              "      <td>19</td>\n",
              "      <td>10</td>\n",
              "      <td>Ms9gt20mw</td>\n",
              "      <td>m</td>\n",
              "      <td>-0.5</td>\n",
              "      <td>101.903297</td>\n",
              "      <td>214.498386</td>\n",
              "      <td>-1</td>\n",
              "      <td>-0.5</td>\n",
              "    </tr>\n",
              "  </tbody>\n",
              "</table>\n",
              "<p>1036 rows × 9 columns</p>\n",
              "</div>"
            ],
            "text/plain": [
              "     genSubN  worldBetN    subject  ...   vduration  voiceN  lang\n",
              "2         10         49  Ee9gt03fw  ...  267.595631      -1  -0.5\n",
              "3         10         41  Ee9gt04mw  ...  302.313780      -1  -0.5\n",
              "4         10         30  Ee9gt05fw  ...  432.950305      -1  -0.5\n",
              "5         10         39  Ee9gt06mw  ...  156.066285      -1  -0.5\n",
              "8         10         54  Ee9gt09fw  ...  219.483993      -1  -0.5\n",
              "..       ...        ...        ...  ...         ...     ...   ...\n",
              "390       19         14  Ms9gt20mw  ...  164.732597      -1  -0.5\n",
              "394       19         12  Ms9gt20mw  ...  294.027431      -1  -0.5\n",
              "395       19         16  Ms9gt20mw  ...  274.520330      -1  -0.5\n",
              "396       19         19  Ms9gt20mw  ...  256.281047      -1  -0.5\n",
              "398       19         10  Ms9gt20mw  ...  214.498386      -1  -0.5\n",
              "\n",
              "[1036 rows x 9 columns]"
            ]
          },
          "metadata": {
            "tags": []
          },
          "execution_count": 47
        }
      ]
    },
    {
      "cell_type": "code",
      "metadata": {
        "colab": {
          "base_uri": "https://localhost:8080/"
        },
        "id": "_f185EginV1N",
        "outputId": "80009fe4-d9d0-424d-b1fa-9d97e32d313c"
      },
      "source": [
        "with pm.Model() as vdur_lang_vot_model:\r\n",
        "  a = pm.Normal(\"a\", 0, 200)\r\n",
        "  b = pm.Normal(\"b\", 0, 50)\r\n",
        "  bC = pm.Normal(\"bC\", 0, 50)\r\n",
        "  sigma = pm.Exponential(\"sigma\", 1)\r\n",
        "\r\n",
        "  vot_hat = pm.Deterministic(\"vot_hat\", a + b*dataEM_v[\"gender\"]*dataEM_v[\"lang\"] + bC*dataEM_v[\"lang\"])\r\n",
        "  vot = pm.Normal(\"vot\", mu=vot_hat, sigma=sigma, observed=dataEM_v[\"VOT\"])\r\n",
        "\r\n",
        "  trace_vdur_lang_vot_model = pm.sample(draws=2000, tune=1000, chains=4)\r\n",
        "  prior_vdur_lang_vot_model = pm.sample_prior_predictive()\r\n",
        "  posterior_vdur_lang_vot_model = pm.sample_posterior_predictive(trace_vdur_lang_vot_model)\r\n",
        "\r\n",
        "  az_vdur_lang_vot_model = az.from_pymc3(\r\n",
        "    trace=trace_vdur_lang_vot_model,\r\n",
        "    prior=prior_vdur_lang_vot_model,\r\n",
        "    posterior_predictive=posterior_vdur_lang_vot_model,\r\n",
        "    dims=vdur_lang_vot_model_dimensions\r\n",
        "  )"
      ],
      "execution_count": 48,
      "outputs": [
        {
          "output_type": "stream",
          "text": [
            "Auto-assigning NUTS sampler...\n",
            "Initializing NUTS using jitter+adapt_diag...\n",
            "Sequential sampling (4 chains in 1 job)\n",
            "NUTS: [sigma, bC, b, a]\n",
            "Sampling chain 0, 0 divergences: 100%|██████████| 3000/3000 [00:33<00:00, 88.41it/s] \n",
            "Sampling chain 1, 0 divergences: 100%|██████████| 3000/3000 [00:23<00:00, 128.62it/s]\n",
            "Sampling chain 2, 0 divergences: 100%|██████████| 3000/3000 [00:29<00:00, 102.04it/s]\n",
            "Sampling chain 3, 0 divergences: 100%|██████████| 3000/3000 [00:23<00:00, 128.96it/s]\n",
            "The acceptance probability does not match the target. It is 0.9078988991772394, but should be close to 0.8. Try to increase the number of tuning steps.\n",
            "The acceptance probability does not match the target. It is 0.8973018485164445, but should be close to 0.8. Try to increase the number of tuning steps.\n",
            "The acceptance probability does not match the target. It is 0.8906464614510369, but should be close to 0.8. Try to increase the number of tuning steps.\n",
            "100%|██████████| 8000/8000 [00:10<00:00, 772.86it/s]\n"
          ],
          "name": "stderr"
        }
      ]
    },
    {
      "cell_type": "code",
      "metadata": {
        "colab": {
          "base_uri": "https://localhost:8080/",
          "height": 400
        },
        "id": "0T6WrVNjnhkg",
        "outputId": "7a10c428-7249-4fc1-81ce-5aa1419fb57d"
      },
      "source": [
        "df = pd.DataFrame()\r\n",
        "for x in prior_vdur_lang_vot_model.keys():\r\n",
        "  if x not in ['vot', 'vot_hat']:\r\n",
        "    df[x] = prior_vdur_lang_vot_model[x]\r\n",
        "\r\n",
        "df.hist()"
      ],
      "execution_count": 49,
      "outputs": [
        {
          "output_type": "execute_result",
          "data": {
            "text/plain": [
              "array([[<matplotlib.axes._subplots.AxesSubplot object at 0x7fa8b21dc7b8>,\n",
              "        <matplotlib.axes._subplots.AxesSubplot object at 0x7fa8cb3377b8>],\n",
              "       [<matplotlib.axes._subplots.AxesSubplot object at 0x7fa8cc064be0>,\n",
              "        <matplotlib.axes._subplots.AxesSubplot object at 0x7fa8cb2eaef0>],\n",
              "       [<matplotlib.axes._subplots.AxesSubplot object at 0x7fa8b2110a20>,\n",
              "        <matplotlib.axes._subplots.AxesSubplot object at 0x7fa8cb33a4e0>]],\n",
              "      dtype=object)"
            ]
          },
          "metadata": {
            "tags": []
          },
          "execution_count": 49
        },
        {
          "output_type": "display_data",
          "data": {
            "image/png": "[encoded data removed]",
            "text/plain": [
              "<Figure size 432x288 with 6 Axes>"
            ]
          },
          "metadata": {
            "tags": [],
            "needs_background": "light"
          }
        }
      ]
    },
    {
      "cell_type": "markdown",
      "metadata": {
        "id": "83dJOH8SnjbZ"
      },
      "source": [
        ""
      ]
    },
    {
      "cell_type": "code",
      "metadata": {
        "colab": {
          "base_uri": "https://localhost:8080/",
          "height": 330
        },
        "id": "tU-r3ySpnime",
        "outputId": "6ed4e719-d5ab-412b-e719-9d0111c9dbcd"
      },
      "source": [
        "az.plot_posterior(posterior_vdur_lang_vot_model)"
      ],
      "execution_count": 50,
      "outputs": [
        {
          "output_type": "execute_result",
          "data": {
            "text/plain": [
              "<matplotlib.axes._subplots.AxesSubplot at 0x7fa8b1e83588>"
            ]
          },
          "metadata": {
            "tags": []
          },
          "execution_count": 50
        },
        {
          "output_type": "display_data",
          "data": {
            "image/png": "[encoded data removed]",
            "text/plain": [
              "<Figure size 432x288 with 1 Axes>"
            ]
          },
          "metadata": {
            "tags": [],
            "needs_background": "light"
          }
        }
      ]
    },
    {
      "cell_type": "code",
      "metadata": {
        "colab": {
          "base_uri": "https://localhost:8080/",
          "height": 330
        },
        "id": "Ufkr_rEenkTw",
        "outputId": "0cfa3572-fa71-4b4a-bf7c-ae91e804fa80"
      },
      "source": [
        "az.plot_ppc(az_vdur_lang_vot_model ,group='posterior')"
      ],
      "execution_count": 51,
      "outputs": [
        {
          "output_type": "execute_result",
          "data": {
            "text/plain": [
              "<matplotlib.axes._subplots.AxesSubplot at 0x7fa8b26e8da0>"
            ]
          },
          "metadata": {
            "tags": []
          },
          "execution_count": 51
        },
        {
          "output_type": "display_data",
          "data": {
            "image/png": "[encoded data removed]",
            "text/plain": [
              "<Figure size 432x288 with 1 Axes>"
            ]
          },
          "metadata": {
            "tags": [],
            "needs_background": "light"
          }
        }
      ]
    }
  ]
}