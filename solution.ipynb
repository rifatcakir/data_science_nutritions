{
  "nbformat": 4,
  "nbformat_minor": 0,
  "metadata": {
    "colab": {
      "name": "hw2.ipynb",
      "provenance": [],
      "collapsed_sections": [
        "zdtT_KUH4xol",
        "5xnQhk7pkhp2",
        "TXztyfudk-ks",
        "oGE407k35AqY",
        "x5_8KMxKwFUX",
        "SoCpy1XgzeLo"
      ],
      "authorship_tag": "ABX9TyOQxSOqBMhy4dW63S0pZwNx",
      "include_colab_link": true
    },
    "kernelspec": {
      "name": "python3",
      "display_name": "Python 3"
    }
  },
  "cells": [
    {
      "cell_type": "markdown",
      "metadata": {
        "id": "view-in-github",
        "colab_type": "text"
      },
      "source": [
        "<a href=\"https://colab.research.google.com/github/rifatcakir/data_science_nutritions/blob/main/solution.ipynb\" target=\"_parent\"><img src=\"https://colab.research.google.com/assets/colab-badge.svg\" alt=\"Open In Colab\"/></a>"
      ]
    },
    {
      "cell_type": "code",
      "metadata": {
        "id": "PkJbB1nCeQb1"
      },
      "source": [
        "import pandas as pd\r\n",
        "import matplotlib.pyplot as plt\r\n",
        "import numpy as np"
      ],
      "execution_count": 5,
      "outputs": []
    },
    {
      "cell_type": "markdown",
      "metadata": {
        "id": "zdtT_KUH4xol"
      },
      "source": [
        "## Question 1"
      ]
    },
    {
      "cell_type": "code",
      "metadata": {
        "colab": {
          "base_uri": "https://localhost:8080/"
        },
        "id": "utdZ5uDheQ_f",
        "outputId": "2c0853a2-c299-4730-c613-9d8a17c87902"
      },
      "source": [
        "df = pd.read_csv (r'https://raw.githubusercontent.com/rifatcakir/data_science_nutritions/main/dats501_hw2_DataFile_nutritions.csv')\r\n",
        "print (df)\r\n"
      ],
      "execution_count": null,
      "outputs": [
        {
          "output_type": "stream",
          "text": [
            "         ID  ...            Portion\n",
            "0     13320  ...               3 oz\n",
            "1     13318  ...               1 oz\n",
            "2     17357  ...               3 oz\n",
            "3      1137  ...     1 cup,  sifted\n",
            "4     17358  ...               4 oz\n",
            "...     ...  ...                ...\n",
            "5133  19334  ...   1 tsp,  unpacked\n",
            "5134  14296  ...          1 serving\n",
            "5135  14024  ...           1 packet\n",
            "5136  19336  ...    1 cup, unsifted\n",
            "5137  19335  ...  1 serving, packet\n",
            "\n",
            "[5138 rows x 15 columns]\n"
          ],
          "name": "stdout"
        }
      ]
    },
    {
      "cell_type": "code",
      "metadata": {
        "colab": {
          "base_uri": "https://localhost:8080/"
        },
        "id": "0W_HfZmBgrBI",
        "outputId": "fbe19ad7-bce7-496f-a2ba-fa22373ed032"
      },
      "source": [
        "list(df)"
      ],
      "execution_count": null,
      "outputs": [
        {
          "output_type": "execute_result",
          "data": {
            "text/plain": [
              "['ID',\n",
              " 'Desc',\n",
              " 'Water',\n",
              " 'Calories',\n",
              " 'Protein',\n",
              " 'Fat',\n",
              " 'Carbs',\n",
              " 'Fiber',\n",
              " 'Sugar',\n",
              " 'Calcium',\n",
              " 'Potassium',\n",
              " 'Sodium',\n",
              " 'VitaminC',\n",
              " 'Chol',\n",
              " 'Portion']"
            ]
          },
          "metadata": {
            "tags": []
          },
          "execution_count": 4
        }
      ]
    },
    {
      "cell_type": "markdown",
      "metadata": {
        "id": "5xnQhk7pkhp2"
      },
      "source": [
        "### Q1 A\r\n",
        "Create a histogram of Calories. Make the plot presentable. Describe the shape of the\r\n",
        "histogram. Do you notice anything unusual?"
      ]
    },
    {
      "cell_type": "code",
      "metadata": {
        "colab": {
          "base_uri": "https://localhost:8080/",
          "height": 295
        },
        "id": "zcixmRmxfWZ-",
        "outputId": "19c1ef3c-3f9c-46d7-a2b0-464108e5012c"
      },
      "source": [
        "plt.hist(df.Calories,bins=\"auto\",\r\n",
        "         color='#008080',label=\"calories\") \r\n",
        "\r\n",
        "plt.xlabel(\"Calorie\")\r\n",
        "plt.ylabel(\"Frequency\")\r\n",
        "plt.legend()\r\n",
        "plt.title(\"Calorie Frequency\")\r\n",
        "\r\n",
        "plt.show()"
      ],
      "execution_count": null,
      "outputs": [
        {
          "output_type": "display_data",
          "data": {
            "image/png": "[encoded data removed]",
            "text/plain": [
              "<Figure size 432x288 with 1 Axes>"
            ]
          },
          "metadata": {
            "tags": [],
            "needs_background": "light"
          }
        }
      ]
    },
    {
      "cell_type": "markdown",
      "metadata": {
        "id": "i6AU1y8sjN7R"
      },
      "source": [
        "**Explanation** = 0 calorie frequency is so strange. It closes 400 frequency. Most of the people is between 0 - 600 callories. There is a frequency gap after 700 and there is high frequency after 800 calorie. This histogram skewed to right."
      ]
    },
    {
      "cell_type": "markdown",
      "metadata": {
        "id": "TXztyfudk-ks"
      },
      "source": [
        "### Q1 B\r\n",
        "Create a scatterplot of calories (y-axis) vs protein (x-axis). Make the plot presentable. Do you\r\n",
        "notice any trends? Do you think that knowing only the protein content of a food, you could\r\n",
        "make a good prediction of the calories in the food?\r\n"
      ]
    },
    {
      "cell_type": "code",
      "metadata": {
        "colab": {
          "base_uri": "https://localhost:8080/",
          "height": 279
        },
        "id": "52xYD7MslMP4",
        "outputId": "fbfec443-2f63-43ff-8430-48c33dbeb6ac"
      },
      "source": [
        "x = df.Protein\r\n",
        "y = df.Calories\r\n",
        "plt.scatter(x, y)\r\n",
        "plt.xlabel(\"Protein\")\r\n",
        "plt.ylabel(\"Calories\")\r\n",
        "plt.show()"
      ],
      "execution_count": null,
      "outputs": [
        {
          "output_type": "display_data",
          "data": {
            "image/png": "[encoded data removed]",
            "text/plain": [
              "<Figure size 432x288 with 1 Axes>"
            ]
          },
          "metadata": {
            "tags": [],
            "needs_background": "light"
          }
        }
      ]
    },
    {
      "cell_type": "markdown",
      "metadata": {
        "id": "YjkVOCBZnowE"
      },
      "source": [
        "**Explanation**: When protein ratio is increase, we can see calories is acting opposite of it.After a point, having high protein ratio stuck on an average. Knowing only protein content of a food is not enough to predict calorie of a food.\r\n"
      ]
    },
    {
      "cell_type": "markdown",
      "metadata": {
        "id": "DOeGU_M_o9-D"
      },
      "source": [
        "### Q1 C\r\n",
        "Create a scatterplot of Calories (y-axis) vs 4 * Protein + 4 * Carbs + 9 * Fat + 2 * Fiber (x-axis).\r\n",
        "Make the plot presentable. If you are at all familiar with nutrition, you may realize that this\r\n",
        "formula calculates the calorie count based on the protein, carbohydrate, and fat values. You’d\r\n",
        "expect then that the result here is a straight line. Is it? If not, can you think of any reasons why it is\r\n",
        "not?"
      ]
    },
    {
      "cell_type": "code",
      "metadata": {
        "colab": {
          "base_uri": "https://localhost:8080/",
          "height": 279
        },
        "id": "_-yQymkvpJPm",
        "outputId": "9b2ac705-3d09-49c6-c7ed-83fef00eec62"
      },
      "source": [
        "x = 4*df.Protein + 4*df.Carbs + 9*df.Fat + 2*df.Fiber\r\n",
        "y = df.Calories\r\n",
        "plt.scatter(x, y)\r\n",
        "plt.xlabel(\"Nutritions\")\r\n",
        "plt.ylabel(\"Calories\")\r\n",
        "plt.show()"
      ],
      "execution_count": null,
      "outputs": [
        {
          "output_type": "display_data",
          "data": {
            "image/png": "[encoded data removed]",
            "text/plain": [
              "<Figure size 432x288 with 1 Axes>"
            ]
          },
          "metadata": {
            "tags": [],
            "needs_background": "light"
          }
        }
      ]
    },
    {
      "cell_type": "markdown",
      "metadata": {
        "id": "D9WxEr-73-4O"
      },
      "source": [
        "**Explanation:** It is almost a straight line. There is some differences for 400 - 600 nutrions. "
      ]
    },
    {
      "cell_type": "markdown",
      "metadata": {
        "id": "oGE407k35AqY"
      },
      "source": [
        "## Question 2\r\n"
      ]
    },
    {
      "cell_type": "markdown",
      "metadata": {
        "id": "qbRdLn1R5Fce"
      },
      "source": [
        "Do below:\r\n",
        "\r\n",
        "▪ Use “range” function to create 11 values from 1 to 10 in an increasing order and assign the result to variable “a”\r\n",
        "\r\n",
        "▪ Use “numpy arrange” function to create 11 values (step: -1) from 10 to 1 in a decreasing\r\n",
        "order and assign the result to variable “b” (hint:\r\n",
        "https://numpy.org/doc/stable/reference/generated/numpy.arange.html)\r\n",
        "\r\n",
        "▪ Use “numpy arrange” function to create 21 values (step: 0.5) from 10 to 1 in a decreasing\r\n",
        "order and assign the result to variable “b2”\r\n",
        "\r\n",
        "▪ Use “ * ” to create 10 times 1 values and assign the result to variable “c”\r\n",
        "\r\n",
        "▪ Use “numpy power” function to create powers of 2 using the values in b array and assign\r\n",
        "the result to variable “d”\r\n"
      ]
    },
    {
      "cell_type": "code",
      "metadata": {
        "colab": {
          "base_uri": "https://localhost:8080/"
        },
        "id": "CpsU4dK86UZs",
        "outputId": "cfa06855-6000-4a62-cdbd-79dda2949abb"
      },
      "source": [
        "a = range(1,11)\r\n",
        "for n in a:\r\n",
        "  print(n)"
      ],
      "execution_count": 6,
      "outputs": [
        {
          "output_type": "stream",
          "text": [
            "1\n",
            "2\n",
            "3\n",
            "4\n",
            "5\n",
            "6\n",
            "7\n",
            "8\n",
            "9\n",
            "10\n"
          ],
          "name": "stdout"
        }
      ]
    },
    {
      "cell_type": "code",
      "metadata": {
        "id": "3LHMjTwQ5yS1",
        "colab": {
          "base_uri": "https://localhost:8080/"
        },
        "outputId": "1a29b490-5e3e-4269-8557-a27cc59e2589"
      },
      "source": [
        "b = np.arange(1,11,1)[::-1]\r\n",
        "for n in b:\r\n",
        "  print(n)"
      ],
      "execution_count": 7,
      "outputs": [
        {
          "output_type": "stream",
          "text": [
            "10\n",
            "9\n",
            "8\n",
            "7\n",
            "6\n",
            "5\n",
            "4\n",
            "3\n",
            "2\n",
            "1\n"
          ],
          "name": "stdout"
        }
      ]
    },
    {
      "cell_type": "code",
      "metadata": {
        "colab": {
          "base_uri": "https://localhost:8080/"
        },
        "id": "hEIRZOJiHifN",
        "outputId": "c702e574-bc6b-42b7-fc68-98e1b3b37ea2"
      },
      "source": [
        "b2 = np.arange(1,11,0.5)\r\n",
        "for n in b2:\r\n",
        "  print(n)"
      ],
      "execution_count": 274,
      "outputs": [
        {
          "output_type": "stream",
          "text": [
            "1.0\n",
            "1.5\n",
            "2.0\n",
            "2.5\n",
            "3.0\n",
            "3.5\n",
            "4.0\n",
            "4.5\n",
            "5.0\n",
            "5.5\n",
            "6.0\n",
            "6.5\n",
            "7.0\n",
            "7.5\n",
            "8.0\n",
            "8.5\n",
            "9.0\n",
            "9.5\n",
            "10.0\n",
            "10.5\n"
          ],
          "name": "stdout"
        }
      ]
    },
    {
      "cell_type": "code",
      "metadata": {
        "colab": {
          "base_uri": "https://localhost:8080/"
        },
        "id": "khzi4gELvdD_",
        "outputId": "9c8d3b2f-a314-480d-a362-1571a7f68fec"
      },
      "source": [
        "c = \"1\"*10\r\n",
        "print(c)"
      ],
      "execution_count": 275,
      "outputs": [
        {
          "output_type": "stream",
          "text": [
            "1111111111\n"
          ],
          "name": "stdout"
        }
      ]
    },
    {
      "cell_type": "code",
      "metadata": {
        "colab": {
          "base_uri": "https://localhost:8080/"
        },
        "id": "TPEkVELvvvws",
        "outputId": "dab2b7bb-23a2-47ce-a0c5-4111dab896e8"
      },
      "source": [
        "d= np.power(b,2)\r\n",
        "for n in d:\r\n",
        "  print(n)"
      ],
      "execution_count": 276,
      "outputs": [
        {
          "output_type": "stream",
          "text": [
            "100\n",
            "81\n",
            "64\n",
            "49\n",
            "36\n",
            "25\n",
            "16\n",
            "9\n",
            "4\n",
            "1\n"
          ],
          "name": "stdout"
        }
      ]
    },
    {
      "cell_type": "markdown",
      "metadata": {
        "id": "x5_8KMxKwFUX"
      },
      "source": [
        "### Q2 A\r\n",
        "Write a function called “f_sumOfSquares” that can be able to understand the size of a list\r\n",
        "and then can calculate the sum of the squares in that list. (Hint: A method is to use loop\r\n",
        "sum squares of the values until the elements in the list finishes). Apply the function to\r\n",
        "a,b,c,d values"
      ]
    },
    {
      "cell_type": "code",
      "metadata": {
        "id": "iO_NEmikwTpB"
      },
      "source": [
        "def f_sumOfSquares(rangeObject):\r\n",
        "  listObj=list(rangeObject);\r\n",
        "  sum =0\r\n",
        "  for x in  range(len(listObj)):\r\n",
        "    sum+= int(listObj[x])**2\r\n",
        "  return sum"
      ],
      "execution_count": 277,
      "outputs": []
    },
    {
      "cell_type": "code",
      "metadata": {
        "colab": {
          "base_uri": "https://localhost:8080/"
        },
        "id": "-8LjqbUzxQYH",
        "outputId": "2463020b-3edb-4166-83f9-441c33616eb5"
      },
      "source": [
        "print(f_sumOfSquares(a))\r\n",
        "print(f_sumOfSquares(b))\r\n",
        "print(f_sumOfSquares(c))\r\n",
        "print(f_sumOfSquares(d))"
      ],
      "execution_count": 278,
      "outputs": [
        {
          "output_type": "stream",
          "text": [
            "385\n",
            "385\n",
            "10\n",
            "25333\n"
          ],
          "name": "stdout"
        }
      ]
    },
    {
      "cell_type": "markdown",
      "metadata": {
        "id": "SoCpy1XgzeLo"
      },
      "source": [
        "### Q2 B\r\n",
        "Write a function called “f_rms_diff"
      ]
    },
    {
      "cell_type": "code",
      "metadata": {
        "id": "eUNPZkNd8mRa"
      },
      "source": [
        "def SquareDifference(x,y):\r\n",
        "    return (x - y)**2\r\n",
        "  "
      ],
      "execution_count": 279,
      "outputs": []
    },
    {
      "cell_type": "code",
      "metadata": {
        "id": "k2xSWMBFET-J"
      },
      "source": [
        "def meanSD(a,b):\r\n",
        "  sum = 0\r\n",
        "  for i in range(len(a)):\r\n",
        "    sum += SquareDifference(a[i],b[i])\r\n",
        "  return sum/len(a)"
      ],
      "execution_count": 280,
      "outputs": []
    },
    {
      "cell_type": "code",
      "metadata": {
        "id": "MQCKrcd-G35G"
      },
      "source": [
        "def squareRootofMeanSD(a,b):\r\n",
        "    return (np.sqrt(meanSD(list(a),list(b)))) "
      ],
      "execution_count": 281,
      "outputs": []
    },
    {
      "cell_type": "code",
      "metadata": {
        "colab": {
          "base_uri": "https://localhost:8080/"
        },
        "id": "8-PDgxbyHBLT",
        "outputId": "d91dd67b-11be-4ccd-9e5b-deca97bf8fe7"
      },
      "source": [
        "print(squareRootofMeanSD(a,b))"
      ],
      "execution_count": 282,
      "outputs": [
        {
          "output_type": "stream",
          "text": [
            "5.744562646538029\n"
          ],
          "name": "stdout"
        }
      ]
    },
    {
      "cell_type": "markdown",
      "metadata": {
        "id": "v5wy-qawHuHa"
      },
      "source": [
        "## Q3\r\n",
        "Write a rock paper scissors game with 2 and 3 players. "
      ]
    },
    {
      "cell_type": "code",
      "metadata": {
        "id": "gW1WCJM0K2bj"
      },
      "source": [
        "def getPlayerInformations(playerNo):\r\n",
        "  players=[]\r\n",
        "  converter = {'rock':0, 'spock':1, 'paper':2, 'lizard':3, 'scissors':4}\r\n",
        "  playerId=1\r\n",
        "  for i in range(playerNo):\r\n",
        "    playerMove = input(\"Enter player\"+str(playerId)+\" move: \")\r\n",
        "    if(playerMove!=\"Taylor Swift\"):\r\n",
        "      players.append(converter[playerMove])\r\n",
        "      playerId+=1\r\n",
        "    else:\r\n",
        "      print(\"This player\"+str(playerId)+\" skipped\")\r\n",
        "      if(playerId<3):\r\n",
        "        print(\"Player\"+str(playerId+1)+\" can play instead of him\")\r\n",
        "  return players;"
      ],
      "execution_count": 262,
      "outputs": []
    },
    {
      "cell_type": "code",
      "metadata": {
        "id": "UjO7h_0qPTuF"
      },
      "source": [
        "def checkGameResult(players):\r\n",
        "  ## All players choiced same\r\n",
        "  if(players.count(players[0]) == len(players)):\r\n",
        "      return -1\r\n",
        "  ## check pieces for every player\r\n",
        "  player=\"\"\r\n",
        "  for i in range(len(players)):\r\n",
        "    player=players[i]\r\n",
        "  ##  print(\"For -> \"+str(player))\r\n",
        "    for j in range(len(players)):\r\n",
        "      win = 0 \r\n",
        "      if (j!=i):\r\n",
        "        ## print(players[i])\r\n",
        "        ## print(players[j])\r\n",
        "        win = (players[j]-players[i]) % 5\r\n",
        "        ## print(\"Win \"+str(win))\r\n",
        "        if win < 3 :\r\n",
        "          player=\"\"\r\n",
        "          break\r\n",
        "       ## else:\r\n",
        "         ## print(str(j) + \" beating \"+str(i))\r\n",
        "    if (player!=\"\"):\r\n",
        "      ## print(player)\r\n",
        "      return i\r\n",
        "  return -1 "
      ],
      "execution_count": 252,
      "outputs": []
    },
    {
      "cell_type": "code",
      "metadata": {
        "id": "fyblBckdHzUZ"
      },
      "source": [
        "def function_play_game():\r\n",
        "  print(\"WELCOME to our ROCK-PAPER-SCISSOR GAME\")\r\n",
        "  result=-1\r\n",
        "  players = getPlayerInformations(3)\r\n",
        "  for i in range(len(players)):\r\n",
        "    result = checkGameResult(players)\r\n",
        "    if(result!=-1):\r\n",
        "      print(\"Player\"+str(result+1) + \" wins!\")\r\n",
        "      break\r\n",
        "    else:\r\n",
        "      print(\"No body wons try again!\")\r\n",
        "      print(\"Remaining chance \"+str(4-i))\r\n",
        "    players= getPlayerInformations(len(players))\r\n",
        "\r\n",
        "  if(result==-1):\r\n",
        "    print(\"Game DRAW\")\r\n"
      ],
      "execution_count": 265,
      "outputs": []
    },
    {
      "cell_type": "markdown",
      "metadata": {
        "id": "57Q7j3W1eqce"
      },
      "source": [
        "test_whenUserEnter_TaylorSwift_skippThisUser"
      ]
    },
    {
      "cell_type": "code",
      "metadata": {
        "colab": {
          "base_uri": "https://localhost:8080/"
        },
        "id": "hWkzWbYtesxw",
        "outputId": "e2f7cbfd-2ed4-45d4-fa84-490f8df49c80"
      },
      "source": [
        "function_play_game()"
      ],
      "execution_count": 269,
      "outputs": [
        {
          "output_type": "stream",
          "text": [
            "WELCOME to our ROCK-PAPER-SCISSOR GAME\n",
            "Enter player1 move: Taylor Swift\n",
            "This player1 skipped\n",
            "Player2 can play instead of him\n",
            "Enter player1 move: rock\n",
            "Enter player2 move: paper\n",
            "Player2 wins!\n"
          ],
          "name": "stdout"
        }
      ]
    },
    {
      "cell_type": "markdown",
      "metadata": {
        "id": "ky77r5mAec8q"
      },
      "source": [
        "test_whenOneOfTheUsersCannotBeatAll_returnDraw\r\n",
        "\r\n",
        "---\r\n",
        "\r\n"
      ]
    },
    {
      "cell_type": "code",
      "metadata": {
        "colab": {
          "base_uri": "https://localhost:8080/"
        },
        "id": "ZPvi-qnyecZc",
        "outputId": "865c6cef-9d23-45b9-c290-f07db26724bd"
      },
      "source": [
        "function_play_game()"
      ],
      "execution_count": 267,
      "outputs": [
        {
          "output_type": "stream",
          "text": [
            "WELCOME to our ROCK-PAPER-SCISSOR GAME\n",
            "Enter player1 move: rock\n",
            "Enter player2 move: rock\n",
            "Enter player3 move: rock\n",
            "No body wons try again!\n",
            "Remaining chance 4\n",
            "Enter player1 move: rock\n",
            "Enter player2 move: paper\n",
            "Enter player3 move: paper\n",
            "No body wons try again!\n",
            "Remaining chance 3\n",
            "Enter player1 move: rock\n",
            "Enter player2 move: lizard\n",
            "Enter player3 move: paper\n",
            "No body wons try again!\n",
            "Remaining chance 2\n",
            "Enter player1 move: paper\n",
            "Enter player2 move: paper\n",
            "Enter player3 move: paper\n",
            "Game DRAW\n"
          ],
          "name": "stdout"
        }
      ]
    },
    {
      "cell_type": "markdown",
      "metadata": {
        "id": "7YewgHa4fHYm"
      },
      "source": [
        "test_UserBeatAll_returnsUserName"
      ]
    },
    {
      "cell_type": "code",
      "metadata": {
        "colab": {
          "base_uri": "https://localhost:8080/"
        },
        "id": "ZP--HC38fLfR",
        "outputId": "b283857a-07c7-4e39-969f-b41f836b4c64"
      },
      "source": [
        "function_play_game()"
      ],
      "execution_count": 273,
      "outputs": [
        {
          "output_type": "stream",
          "text": [
            "WELCOME to our ROCK-PAPER-SCISSOR GAME\n",
            "Enter player1 move: scissors\n",
            "Enter player2 move: paper\n",
            "Enter player3 move: paper\n",
            "Player1 wins!\n"
          ],
          "name": "stdout"
        }
      ]
    }
  ]
}